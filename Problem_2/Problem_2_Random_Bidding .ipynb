{
 "cells": [
  {
   "cell_type": "code",
   "execution_count": 2,
   "metadata": {},
   "outputs": [],
   "source": [
    "import numpy as np \n",
    "import pandas as pd \n",
    "import matplotlib.pyplot as plt\n",
    "import seaborn as sns\n",
    "data_validation = pd.read_csv('validation.csv')"
   ]
  },
  {
   "cell_type": "code",
   "execution_count": null,
   "metadata": {},
   "outputs": [],
   "source": [
    "Clicks2= []\n",
    "Spend2 =[] \n",
    "CTR2 =[] \n",
    "CPM2 =[] \n",
    "eCPC2 =[]\n",
    "\n",
    "max=0\n",
    "best_range=''\n",
    "Range =[]\n",
    "impressions = []\n",
    "\n",
    "for i in range(1,150,5):\n",
    "    for j in range(300, 151,-10):\n",
    "        print('lower bound is ',i)\n",
    "        print('upper bound is ',j)\n",
    "        \n",
    "        count =0 #count number of impressions \n",
    "        budget = 6250000 \n",
    "        clicks=0\n",
    "        for x, y in data_validation.iterrows():\n",
    "            #Set random price from i(lower bound) and j(upper bound)\n",
    "            bid_price = np.random.randint(i,j)\n",
    "            payprice=y['payprice'] \n",
    "            if (bid_price>= payprice):\n",
    "                budget= budget-payprice\n",
    "                if (budget>=0):\n",
    "                    count+=1 \n",
    "                    if (y['click']==1):\n",
    "                        clicks +=1\n",
    "                else:\n",
    "                    item= '['+str(i)+','+str(j)+']'\n",
    "                    Range.append(item)\n",
    "                    impressions.append(count)\n",
    "                    budget= budget+payprice\n",
    "                    if max<count:\n",
    "                        max = count\n",
    "                        best_range = item \n",
    "                    break\n",
    "        CtR = clicks/count\n",
    "        Spent = 6250000 - budget\n",
    "        cPM = 1000*Spent/count\n",
    "        if (clicks >0):\n",
    "            ecPC = Spent/clicks\n",
    "        else:\n",
    "            ecPC =0\n",
    "\n",
    "        \n",
    "        Clicks2.append(clicks)\n",
    "        Spend2.append(Spent)\n",
    "        CTR2.append(CtR)\n",
    "        eCPC2.append(ecPC)\n",
    "        CPM2.append(cPM)          \n",
    "          \n",
    "          "
   ]
  },
  {
   "cell_type": "code",
   "execution_count": null,
   "metadata": {},
   "outputs": [],
   "source": [
    "Random_bid_range=pd.DataFrame(Range, columns=['Bid Range'])\n",
    "Random_bid_range['Number of Impressions']=impressions\n",
    "Random_bid_range['Number of Clicks']=Clicks2\n",
    "Random_bid_range['Spent Amount']=Spend2\n",
    "Random_bid_range['CTR']=CTR2\n",
    "Random_bid_range['CPC']=eCPC2\n",
    "Random_bid_range['CPM']=CPM2"
   ]
  },
  {
   "cell_type": "code",
   "execution_count": null,
   "metadata": {},
   "outputs": [],
   "source": [
    "print (Random_bid_range['Number of Clicks'].max())\n",
    "print (Random_bid_range['Number of Impressions'].max())"
   ]
  },
  {
   "cell_type": "code",
   "execution_count": null,
   "metadata": {},
   "outputs": [],
   "source": [
    "#Range of bids that recorded more than 1300000 impressions \n",
    "High_Imps=Random_bid_range.loc[Random_bid_range['Number of Impressions']>=130000]\n",
    "High_Imps"
   ]
  },
  {
   "cell_type": "code",
   "execution_count": 11,
   "metadata": {},
   "outputs": [
    {
     "name": "stderr",
     "output_type": "stream",
     "text": [
      "/anaconda3/lib/python3.7/site-packages/ipykernel_launcher.py:1: SettingWithCopyWarning: \n",
      "A value is trying to be set on a copy of a slice from a DataFrame.\n",
      "Try using .loc[row_indexer,col_indexer] = value instead\n",
      "\n",
      "See the caveats in the documentation: http://pandas.pydata.org/pandas-docs/stable/indexing.html#indexing-view-versus-copy\n",
      "  \"\"\"Entry point for launching an IPython kernel.\n"
     ]
    }
   ],
   "source": [
    "High_Imps['lower bound']= [1,6,11,16,21,26,31]"
   ]
  },
  {
   "cell_type": "code",
   "execution_count": 13,
   "metadata": {},
   "outputs": [
    {
     "data": {
      "image/png": "[encoded data removed]",
      "text/plain": [
       "<Figure size 432x288 with 1 Axes>"
      ]
     },
     "metadata": {
      "needs_background": "light"
     },
     "output_type": "display_data"
    }
   ],
   "source": [
    "High_Imps.plot(kind='line',x='lower bound',y='Number of Clicks',color='red')\n",
    "plt.title('Clicks won by different lowervalues (upper value fixed at 160)')\n",
    "plt.savefig('maximum_impression_counts.png')\n",
    "plt.show()"
   ]
  },
  {
   "cell_type": "code",
   "execution_count": null,
   "metadata": {},
   "outputs": [],
   "source": []
  }
 ],
 "metadata": {
  "kernelspec": {
   "display_name": "Python 3",
   "language": "python",
   "name": "python3"
  },
  "language_info": {
   "codemirror_mode": {
    "name": "ipython",
    "version": 3
   },
   "file_extension": ".py",
   "mimetype": "text/x-python",
   "name": "python",
   "nbconvert_exporter": "python",
   "pygments_lexer": "ipython3",
   "version": "3.7.1"
  }
 },
 "nbformat": 4,
 "nbformat_minor": 2
}
