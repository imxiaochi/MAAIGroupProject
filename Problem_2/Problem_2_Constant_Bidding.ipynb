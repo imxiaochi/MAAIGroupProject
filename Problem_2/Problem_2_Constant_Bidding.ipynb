{
 "cells": [
  {
   "cell_type": "code",
   "execution_count": 1,
   "metadata": {},
   "outputs": [],
   "source": [
    "import numpy as np \n",
    "import pandas as pd \n",
    "import matplotlib.pyplot as plt\n",
    "import seaborn as sns\n",
    "data_validation = pd.read_csv('validation.csv')"
   ]
  },
  {
   "cell_type": "code",
   "execution_count": null,
   "metadata": {},
   "outputs": [
    {
     "name": "stdout",
     "output_type": "stream",
     "text": [
      "For bid price = 30  impressions = 68444  Clicks = 19  Spent amount =  1163085  eCPC is  61215.0\n",
      " CTR = 0.0002775992051896441  CPM is  16993.235345684065\n",
      " ------->\n",
      "For bid price = 31  impressions = 73772  Clicks = 24  Spent amount =  1328253  eCPC is  55343.875\n",
      " CTR = 0.0003253266822100526  CPM is  18004.839234397874\n",
      " ------->\n",
      "For bid price = 32  impressions = 75439  Clicks = 24  Spent amount =  1381597  eCPC is  57566.541666666664\n",
      " CTR = 0.0003181378332162409  CPM is  18314.094831585786\n",
      " ------->\n",
      "For bid price = 33  impressions = 77564  Clicks = 24  Spent amount =  1451722  eCPC is  60488.416666666664\n",
      " CTR = 0.0003094218967562271  CPM is  18716.44061678098\n",
      " ------->\n",
      "For bid price = 34  impressions = 79292  Clicks = 24  Spent amount =  1510474  eCPC is  62936.416666666664\n",
      " CTR = 0.000302678706552994  CPM is  19049.51319174696\n",
      " ------->\n",
      "For bid price = 35  impressions = 80043  Clicks = 24  Spent amount =  1536759  eCPC is  64031.625\n",
      " CTR = 0.0002998388366253139  CPM is  19199.167947228365\n",
      " ------->\n",
      "For bid price = 36  impressions = 81864  Clicks = 24  Spent amount =  1602315  eCPC is  66763.125\n",
      " CTR = 0.0002931691586045148  CPM is  19572.889182058047\n",
      " ------->\n",
      "For bid price = 37  impressions = 83056  Clicks = 25  Spent amount =  1646419  eCPC is  65856.76\n",
      " CTR = 0.0003010017337699865  CPM is  19822.998940473895\n",
      " ------->\n",
      "For bid price = 38  impressions = 84634  Clicks = 27  Spent amount =  1706383  eCPC is  63199.37037037037\n",
      " CTR = 0.00031902072453151214  CPM is  20161.908925490938\n",
      " ------->\n"
     ]
    }
   ],
   "source": [
    "BidPrice =[]\n",
    "Clicks= []\n",
    "Impressions=[] \n",
    "Spend =[] \n",
    "CTR =[] \n",
    "CPM =[] \n",
    "eCPC =[]\n",
    "\n",
    "for i in range(30,301):\n",
    "    budget = 6250000\n",
    "    impressions = 0\n",
    "    clicks = 0\n",
    "    for x, y in data_validation.iterrows():\n",
    "        payprice=y['payprice']\n",
    "        if (i>=payprice):\n",
    "            budget= budget-payprice\n",
    "            if (budget>=0): \n",
    "                impressions+=1\n",
    "                if (y['click']==1):\n",
    "                    clicks +=1\n",
    "            else:\n",
    "                budget= budget+payprice\n",
    "                break          \n",
    "     \n",
    "    CtR = clicks/impressions\n",
    "    Spent = 6250000 - budget\n",
    "    cPM = 1000*Spent/impressions\n",
    "    if (clicks >0):\n",
    "        ecPC = Spent/clicks\n",
    "    else:\n",
    "        ecPC =0\n",
    "  \n",
    "    BidPrice.append(i)\n",
    "    Clicks.append(clicks)\n",
    "    Impressions.append(impressions)\n",
    "    Spend.append(Spent)\n",
    "    CTR.append(CtR)\n",
    "    eCPC.append(ecPC)\n",
    "    CPM.append(cPM)\n",
    "    print ('For bid price =',i, ' impressions =',impressions,' Clicks =',clicks,' Spent amount = ',Spent, ' eCPC is ',ecPC) \n",
    "    print ( ' CTR =',CtR, ' CPM is ',cPM)\n",
    "    print (' ------->')"
   ]
  },
  {
   "cell_type": "code",
   "execution_count": null,
   "metadata": {},
   "outputs": [],
   "source": [
    "#Create a dataframe for results\n",
    "Bids=pd.DataFrame(BidPrice, columns=['Bid Prices'])\n",
    "Bids['Impression Counts'] = Impressions\n",
    "Bids['Amount Spent'] = Spend\n",
    "Bids['CTR'] = CTR\n",
    "Bids['CPM'] = CPM\n",
    "Bids['eCPC'] = eCPC"
   ]
  },
  {
   "cell_type": "code",
   "execution_count": null,
   "metadata": {},
   "outputs": [],
   "source": [
    "Bids['Click Counts'].max()"
   ]
  },
  {
   "cell_type": "code",
   "execution_count": null,
   "metadata": {},
   "outputs": [],
   "source": [
    "Maximum_bids =Bids.loc[Bids['Click Counts']>60]"
   ]
  },
  {
   "cell_type": "code",
   "execution_count": null,
   "metadata": {},
   "outputs": [],
   "source": [
    "#Plot bids with clicks more than 60 \n",
    "Maximum_bids.plot(kind='line',x='Bid Prices',y='Click Counts',color='blue')\n",
    "plt.title('The Number of Clicks for Constant Bid Prices (with click count > 60)')\n",
    "plt.savefig('maximum_click_counts.png')\n",
    "plt.show()"
   ]
  }
 ],
 "metadata": {
  "kernelspec": {
   "display_name": "Python 3",
   "language": "python",
   "name": "python3"
  },
  "language_info": {
   "codemirror_mode": {
    "name": "ipython",
    "version": 3
   },
   "file_extension": ".py",
   "mimetype": "text/x-python",
   "name": "python",
   "nbconvert_exporter": "python",
   "pygments_lexer": "ipython3",
   "version": "3.7.1"
  }
 },
 "nbformat": 4,
 "nbformat_minor": 2
}
