{
 "cells": [
  {
   "cell_type": "code",
   "execution_count": 1,
   "metadata": {},
   "outputs": [],
   "source": [
    "import numpy as np \n",
    "import pandas as pd \n",
    "import matplotlib.pyplot as plt\n",
    "import seaborn as sns\n",
    "data_validation = pd.read_csv('validation.csv')"
   ]
  },
  {
   "cell_type": "code",
   "execution_count": null,
   "metadata": {},
   "outputs": [],
   "source": [
    "no_agents = np.random.randint(50,100)\n",
    "#It selected 51 when run the first time"
   ]
  },
  {
   "cell_type": "code",
   "execution_count": null,
   "metadata": {},
   "outputs": [],
   "source": [
    "Payprice=[]\n",
    "for x, y in data_validation.iterrows():\n",
    "        payprice=y['payprice']\n",
    "        Payprice.append(payprice)"
   ]
  },
  {
   "cell_type": "code",
   "execution_count": null,
   "metadata": {},
   "outputs": [],
   "source": [
    "Click=[]\n",
    "for x, y in data_validation.iterrows():\n",
    "    click=y['click']\n",
    "    Click.append(click)"
   ]
  },
  {
   "cell_type": "code",
   "execution_count": null,
   "metadata": {},
   "outputs": [],
   "source": [
    "Agents=pd.DataFrame(Payprice, columns=['Payprice'])\n",
    "Agents['Click']=Click"
   ]
  },
  {
   "cell_type": "code",
   "execution_count": null,
   "metadata": {},
   "outputs": [],
   "source": [
    "\n",
    "# Generate bid prices for all agents (Randomly generated from best range in question 2 (16, 160))\n",
    "for i in range (1,52):\n",
    "    bids=[]\n",
    "    for x in range(len(Agents)):\n",
    "        bid_price = np.random.randint(16, 160)\n",
    "        bids.append(bid_price)\n",
    "    Agents['Agent_'+str(i)]=bids"
   ]
  },
  {
   "cell_type": "code",
   "execution_count": null,
   "metadata": {},
   "outputs": [],
   "source": [
    "import random\n",
    "\n",
    "Agent =[]\n",
    "Clicks= []\n",
    "Impressions=[] \n",
    "Spend =[] \n",
    "CTR =[] \n",
    "CPM =[] \n",
    "eCPC =[]\n",
    "click_data= Agents_data['Click'].values\n",
    "\n",
    "Agent_No = list(range(1,52))#Randomly arrange Agent Numbers \n",
    "random.shuffle(Agent_No)\n",
    "\n",
    "    \n",
    "    \n",
    "\n",
    "for i in range(len(Agent_No)):\n",
    "    budget = 6250000\n",
    "    impressions = 0\n",
    "    clicks = 0\n",
    "    data = Agents_data.drop(columns=['Agent_'+str(Agent_No[i])])\n",
    "    data = data.drop(columns=['Click'])\n",
    "    bidprices_for_agent= Agents_data['Agent_'+str(Agent_No[i])].values\n",
    "    print (bidprices_for_agent)\n",
    "    iter_data = data\n",
    "    \n",
    "    for x, y in data.iterrows():\n",
    "        bidprice = bidprices_for_agent[x]\n",
    "        payprice=y.max()\n",
    "        if (bidprice>=payprice):\n",
    "            iter_data = iter_data.drop(x) #when an impression is won, we delete the row \n",
    "            budget= budget-payprice\n",
    "            if (budget>=0): \n",
    "                impressions+=1\n",
    "                if (click_data[x]==1):\n",
    "                    clicks +=1\n",
    "            else:\n",
    "                budget= budget+payprice\n",
    "                break\n",
    "\n",
    "\n",
    "\n",
    "    CtR = clicks/impressions\n",
    "    Spent = 6250000 - budget\n",
    "    cPM = 1000*Spent/impressions\n",
    "    if (clicks >0):\n",
    "        ecPC = Spent/clicks\n",
    "    else:\n",
    "        ecPC =0\n",
    "\n",
    "    Agent.append(Agent_No[i])\n",
    "    Clicks.append(clicks)\n",
    "    Impressions.append(impressions)\n",
    "    Spend.append(Spent)\n",
    "    CTR.append(CtR)\n",
    "    eCPC.append(ecPC)\n",
    "    CPM.append(cPM)\n",
    "    print ('For Agent =',Agent_No[i], ' impressions =',impressions,' Clicks =',clicks,' Spent amount = ',Spent, ' eCPC is ',ecPC) \n",
    "    print ( ' CTR =',CtR, ' CPM is ',cPM)\n",
    "    print (' ------->')\n",
    "    data = iter_data\n",
    "        "
   ]
  },
  {
   "cell_type": "code",
   "execution_count": null,
   "metadata": {},
   "outputs": [],
   "source": [
    "Agent_bid_info=pd.DataFrame(Agent, columns=['Agent_ID'])\n",
    "Agent_bid_info['Number of Impressions']=Impressions\n",
    "Agent_bid_info['Number of Clicks']=Clicks\n",
    "Agent_bid_info['Spent Amount']=Spend\n",
    "Agent_bid_info['CTR']=CTR\n",
    "Agent_bid_info['CPC']=eCPC\n",
    "Agent_bid_info['CPM']=CPM"
   ]
  },
  {
   "cell_type": "code",
   "execution_count": 20,
   "metadata": {},
   "outputs": [
    {
     "data": {
      "text/plain": [
       "6443"
      ]
     },
     "execution_count": 20,
     "metadata": {},
     "output_type": "execute_result"
    }
   ],
   "source": [
    "Agent_bid_info['Number of Impressions'].max()"
   ]
  },
  {
   "cell_type": "code",
   "execution_count": 23,
   "metadata": {},
   "outputs": [
    {
     "data": {
      "text/html": [
       "<div>\n",
       "<style scoped>\n",
       "    .dataframe tbody tr th:only-of-type {\n",
       "        vertical-align: middle;\n",
       "    }\n",
       "\n",
       "    .dataframe tbody tr th {\n",
       "        vertical-align: top;\n",
       "    }\n",
       "\n",
       "    .dataframe thead th {\n",
       "        text-align: right;\n",
       "    }\n",
       "</style>\n",
       "<table border=\"1\" class=\"dataframe\">\n",
       "  <thead>\n",
       "    <tr style=\"text-align: right;\">\n",
       "      <th></th>\n",
       "      <th>Unnamed: 0</th>\n",
       "      <th>Agent_ID</th>\n",
       "      <th>Number of Impressions</th>\n",
       "      <th>Number of Clicks</th>\n",
       "      <th>Spent Amount</th>\n",
       "      <th>CTR</th>\n",
       "      <th>CPC</th>\n",
       "      <th>CPM</th>\n",
       "    </tr>\n",
       "  </thead>\n",
       "  <tbody>\n",
       "    <tr>\n",
       "      <th>0</th>\n",
       "      <td>0</td>\n",
       "      <td>2</td>\n",
       "      <td>6443</td>\n",
       "      <td>5</td>\n",
       "      <td>994181</td>\n",
       "      <td>0.000776</td>\n",
       "      <td>198836.2</td>\n",
       "      <td>154304.050908</td>\n",
       "    </tr>\n",
       "  </tbody>\n",
       "</table>\n",
       "</div>"
      ],
      "text/plain": [
       "   Unnamed: 0  Agent_ID  Number of Impressions  Number of Clicks  \\\n",
       "0           0         2                   6443                 5   \n",
       "\n",
       "   Spent Amount       CTR       CPC            CPM  \n",
       "0        994181  0.000776  198836.2  154304.050908  "
      ]
     },
     "execution_count": 23,
     "metadata": {},
     "output_type": "execute_result"
    }
   ],
   "source": [
    "Agent_bid_info.loc[Agent_bid_info['Number of Impressions']==6443 ]"
   ]
  },
  {
   "cell_type": "code",
   "execution_count": 24,
   "metadata": {},
   "outputs": [
    {
     "data": {
      "text/plain": [
       "7"
      ]
     },
     "execution_count": 24,
     "metadata": {},
     "output_type": "execute_result"
    }
   ],
   "source": [
    "Agent_bid_info['Number of Clicks'].max()"
   ]
  },
  {
   "cell_type": "code",
   "execution_count": null,
   "metadata": {},
   "outputs": [],
   "source": []
  }
 ],
 "metadata": {
  "kernelspec": {
   "display_name": "Python 3",
   "language": "python",
   "name": "python3"
  },
  "language_info": {
   "codemirror_mode": {
    "name": "ipython",
    "version": 3
   },
   "file_extension": ".py",
   "mimetype": "text/x-python",
   "name": "python",
   "nbconvert_exporter": "python",
   "pygments_lexer": "ipython3",
   "version": "3.7.1"
  }
 },
 "nbformat": 4,
 "nbformat_minor": 2
}
