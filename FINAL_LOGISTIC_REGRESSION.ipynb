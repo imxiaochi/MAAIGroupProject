{
  "nbformat": 4,
  "nbformat_minor": 0,
  "metadata": {
    "colab": {
      "name": "FINAL_LOGISTIC_REGRESSION.ipynb",
      "version": "0.3.2",
      "provenance": [],
      "collapsed_sections": [],
      "toc_visible": true
    },
    "kernelspec": {
      "name": "python3",
      "display_name": "Python 3"
    },
    "accelerator": "GPU"
  },
  "cells": [
    {
      "metadata": {
        "id": "oP24pi44U_lf",
        "colab_type": "code",
        "outputId": "fc957c43-51f5-4705-9635-f1b69ade95e1",
        "colab": {
          "base_uri": "https://localhost:8080/",
          "height": 189
        }
      },
      "cell_type": "code",
      "source": [
        "from google.colab import drive\n",
        "drive.mount('/content/gdrive')"
      ],
      "execution_count": 0,
      "outputs": [
        {
          "output_type": "stream",
          "text": [
            "Go to this URL in a browser: https://accounts.google.com/o/oauth2/auth?client_id=947318989803-6bn6qk8qdgf4n4g3pfee6491hc0brc4i.apps.googleusercontent.com&redirect_uri=urn%3Aietf%3Awg%3Aoauth%3A2.0%3Aoob&scope=email%20https%3A%2F%2Fwww.googleapis.com%2Fauth%2Fdocs.test%20https%3A%2F%2Fwww.googleapis.com%2Fauth%2Fdrive%20https%3A%2F%2Fwww.googleapis.com%2Fauth%2Fdrive.photos.readonly%20https%3A%2F%2Fwww.googleapis.com%2Fauth%2Fpeopleapi.readonly&response_type=code\n",
            "\n",
            "Enter your authorization code:\n",
            "··········\n",
            "Mounted at /content/gdrive\n"
          ],
          "name": "stdout"
        }
      ]
    },
    {
      "metadata": {
        "id": "pMtJPGGZVUhC",
        "colab_type": "code",
        "colab": {}
      },
      "cell_type": "code",
      "source": [
        "import numpy as np\n",
        "import pandas as pd\n",
        "from sklearn.linear_model import LogisticRegression\n",
        "import matplotlib.pyplot as plt\n",
        "from sklearn import metrics\n",
        "from sklearn.model_selection import GridSearchCV\n",
        "from collections import Counter\n",
        "from sklearn.feature_selection import RFE\n",
        "from sklearn.metrics import confusion_matrix\n",
        "from sklearn.metrics import classification_report\n",
        "from sklearn.metrics import roc_auc_score\n",
        "from sklearn.metrics import roc_curve\n",
        "import matplotlib.pyplot as plt\n",
        "from sklearn.externals import joblib\n"
      ],
      "execution_count": 0,
      "outputs": []
    },
    {
      "metadata": {
        "id": "kIW2TrKVU_ls",
        "colab_type": "code",
        "colab": {}
      },
      "cell_type": "code",
      "source": [
        "train_df = pd.read_csv('/content/gdrive/My Drive/we_data/FINAL_CSVs/train_1793_7172.csv')\n",
        "val_df = pd.read_csv('/content/gdrive/My Drive/we_data/FINAL_CSVs/FINAL_VALIDATION_v1.csv')\n",
        "train_df = train_df.drop(['Unnamed: 0','Unnamed: 0.1'],axis=1)\n",
        "val_df = val_df.drop('Unnamed: 0',axis=1)\n"
      ],
      "execution_count": 0,
      "outputs": []
    },
    {
      "metadata": {
        "id": "t9MVzDSLU_mE",
        "colab_type": "code",
        "outputId": "cceacbde-c615-4097-a560-8088811cb6f2",
        "colab": {
          "base_uri": "https://localhost:8080/",
          "height": 649
        }
      },
      "cell_type": "code",
      "source": [
        "x = train_df.drop(['click','bidid','userid','city','payprice','bidprice'],axis=1)\n",
        "y = train_df['click']\n",
        "\n",
        "logreg = LogisticRegression()\n",
        "logreg.fit(x, y)\n",
        "\n",
        "x2 = val_df.drop(['click','bidid','userid','city','payprice','bidprice'],axis=1)\n",
        "y2 = val_df['click']\n",
        "\n",
        "\n",
        "y_pred = logreg.predict(x2)\n",
        "print('Accuracy of logistic regression classifier on test set: {:.2f}'.format(logreg.score(x2, y2)))\n",
        "\n",
        "conf_mat = confusion_matrix(y2, y_pred)\n",
        "print('Confusion matrix: ','\\n',conf_mat, '\\n')\n",
        "print(classification_report(y2, y_pred))"
      ],
      "execution_count": 0,
      "outputs": [
        {
          "output_type": "stream",
          "text": [
            "/usr/local/lib/python3.6/dist-packages/sklearn/linear_model/logistic.py:433: FutureWarning: Default solver will be changed to 'lbfgs' in 0.22. Specify a solver to silence this warning.\n",
            "  FutureWarning)\n"
          ],
          "name": "stderr"
        },
        {
          "output_type": "stream",
          "text": [
            "Accuracy of logistic regression classifier on test set: 0.93\n",
            "Confusion matrix:  \n",
            " [[283708  20015]\n",
            " [   150     52]] \n",
            "\n",
            "              precision    recall  f1-score   support\n",
            "\n",
            "           0       1.00      0.93      0.97    303723\n",
            "           1       0.00      0.26      0.01       202\n",
            "\n",
            "   micro avg       0.93      0.93      0.93    303925\n",
            "   macro avg       0.50      0.60      0.49    303925\n",
            "weighted avg       1.00      0.93      0.97    303925\n",
            "\n"
          ],
          "name": "stdout"
        }
      ]
    },
    {
      "metadata": {
        "id": "dSSz778D2SJD",
        "colab_type": "text"
      },
      "cell_type": "markdown",
      "source": [
        "# Features Selection"
      ]
    },
    {
      "metadata": {
        "id": "NLF0pQyszpfk",
        "colab_type": "code",
        "colab": {}
      },
      "cell_type": "code",
      "source": [
        "# Precision = TP/TP+FP\n",
        "# Recall = TP/TP+FN\n",
        "# F1 Score = 2*(Recall * Precision) / (Recall + Precision)\n",
        "\n",
        "# F1 score - F1 Score is the weighted average of Precision and Recall. \n",
        "# Therefore, this score takes both false positives and false negatives into account. \n",
        "# Intuitively it is not as easy to understand as accuracy, but F1 is usually more useful than accuracy, \n",
        "# especially if you have an uneven class distribution. Accuracy works best if false positives and false negatives have similar cost. \n",
        "# If the cost of false positives and false negatives are very different, it’s better to look at both Precision and Recall.\n",
        "\n",
        "# loop through each number to find optimal features\n",
        "\n",
        "for i in range(60, 201, 10):\n",
        "  \n",
        "  x = train_df.drop(['click','bidid','userid','city','payprice','bidprice'],axis=1)\n",
        "  y = train_df['click']\n",
        "  \n",
        "  logreg = LogisticRegression()\n",
        "\n",
        "  rfe = RFE(logreg, i)\n",
        "  rfe = rfe.fit(x, y)\n",
        "\n",
        "  selected_features = []\n",
        "\n",
        "  for j in range(len(x.columns.tolist())):\n",
        "    if rfe.ranking_[j] == 1:\n",
        "      selected_features.append(x.columns.tolist()[j])\n",
        "\n",
        "  x = train_df[selected_features]\n",
        "  y = train_df['click']\n",
        "\n",
        "  logreg.fit(x, y)\n",
        "\n",
        "  x2 = val_df[selected_features]\n",
        "  y2 = val_df['click']\n",
        "\n",
        "\n",
        "  y_pred = logreg.predict(x2)\n",
        "  print('At ' + str(i) + ' feature, accuracy of logistic regression classifier on test set: {:.2f}'.format(logreg.score(x2, y2)))\n",
        "\n",
        "  conf_mat = confusion_matrix(y2, y_pred)\n",
        "  print('Confusion matrix: ','\\n',conf_mat, '\\n')\n",
        "  print(classification_report(y2, y_pred), '\\n')\n",
        "  \n",
        "  # best number of features after grid search: 130\n"
      ],
      "execution_count": 0,
      "outputs": []
    },
    {
      "metadata": {
        "id": "WiUVEbEazxtr",
        "colab_type": "code",
        "outputId": "9053a440-2584-4cdb-b451-4bbd1d2bd7be",
        "colab": {
          "base_uri": "https://localhost:8080/",
          "height": 2876
        }
      },
      "cell_type": "code",
      "source": [
        "logreg = LogisticRegression()\n",
        "\n",
        "x = train_df.drop(['click','bidid','userid','city','payprice','bidprice'],axis=1)\n",
        "y = train_df['click']  \n",
        "\n",
        "rfe = RFE(logreg, n_features_to_select = 130)\n",
        "rfe = rfe.fit(x, y)\n",
        "\n",
        "selected_features = []\n",
        "\n",
        "for j in range(len(x.columns.tolist())):\n",
        "  if rfe.ranking_[j] == 1:\n",
        "    selected_features.append(x.columns.tolist()[j])\n",
        "\n",
        "x = train_df[selected_features]\n",
        "y = train_df['click']\n",
        "\n",
        "logreg.fit(x, y)\n",
        "\n",
        "x2 = val_df[selected_features]\n",
        "y2 = val_df['click']\n",
        "\n",
        "\n",
        "y_pred = logreg.predict(x2)\n",
        "print('Accuracy of logistic regression classifier on test set: {:.2f}'.format(logreg.score(x2, y2)))\n",
        "\n",
        "conf_mat = confusion_matrix(y2, y_pred)\n",
        "print('Confusion matrix: ','\\n',conf_mat, '\\n')\n",
        "print(classification_report(y2, y_pred), '\\n')\n",
        "\n",
        "  "
      ],
      "execution_count": 0,
      "outputs": [
        {
          "output_type": "stream",
          "text": [
            "/usr/local/lib/python3.6/dist-packages/sklearn/linear_model/logistic.py:433: FutureWarning: Default solver will be changed to 'lbfgs' in 0.22. Specify a solver to silence this warning.\n",
            "  FutureWarning)\n",
            "/usr/local/lib/python3.6/dist-packages/sklearn/linear_model/logistic.py:433: FutureWarning: Default solver will be changed to 'lbfgs' in 0.22. Specify a solver to silence this warning.\n",
            "  FutureWarning)\n",
            "/usr/local/lib/python3.6/dist-packages/sklearn/linear_model/logistic.py:433: FutureWarning: Default solver will be changed to 'lbfgs' in 0.22. Specify a solver to silence this warning.\n",
            "  FutureWarning)\n",
            "/usr/local/lib/python3.6/dist-packages/sklearn/linear_model/logistic.py:433: FutureWarning: Default solver will be changed to 'lbfgs' in 0.22. Specify a solver to silence this warning.\n",
            "  FutureWarning)\n",
            "/usr/local/lib/python3.6/dist-packages/sklearn/linear_model/logistic.py:433: FutureWarning: Default solver will be changed to 'lbfgs' in 0.22. Specify a solver to silence this warning.\n",
            "  FutureWarning)\n",
            "/usr/local/lib/python3.6/dist-packages/sklearn/linear_model/logistic.py:433: FutureWarning: Default solver will be changed to 'lbfgs' in 0.22. Specify a solver to silence this warning.\n",
            "  FutureWarning)\n",
            "/usr/local/lib/python3.6/dist-packages/sklearn/linear_model/logistic.py:433: FutureWarning: Default solver will be changed to 'lbfgs' in 0.22. Specify a solver to silence this warning.\n",
            "  FutureWarning)\n",
            "/usr/local/lib/python3.6/dist-packages/sklearn/linear_model/logistic.py:433: FutureWarning: Default solver will be changed to 'lbfgs' in 0.22. Specify a solver to silence this warning.\n",
            "  FutureWarning)\n",
            "/usr/local/lib/python3.6/dist-packages/sklearn/linear_model/logistic.py:433: FutureWarning: Default solver will be changed to 'lbfgs' in 0.22. Specify a solver to silence this warning.\n",
            "  FutureWarning)\n",
            "/usr/local/lib/python3.6/dist-packages/sklearn/linear_model/logistic.py:433: FutureWarning: Default solver will be changed to 'lbfgs' in 0.22. Specify a solver to silence this warning.\n",
            "  FutureWarning)\n",
            "/usr/local/lib/python3.6/dist-packages/sklearn/linear_model/logistic.py:433: FutureWarning: Default solver will be changed to 'lbfgs' in 0.22. Specify a solver to silence this warning.\n",
            "  FutureWarning)\n",
            "/usr/local/lib/python3.6/dist-packages/sklearn/linear_model/logistic.py:433: FutureWarning: Default solver will be changed to 'lbfgs' in 0.22. Specify a solver to silence this warning.\n",
            "  FutureWarning)\n",
            "/usr/local/lib/python3.6/dist-packages/sklearn/linear_model/logistic.py:433: FutureWarning: Default solver will be changed to 'lbfgs' in 0.22. Specify a solver to silence this warning.\n",
            "  FutureWarning)\n",
            "/usr/local/lib/python3.6/dist-packages/sklearn/linear_model/logistic.py:433: FutureWarning: Default solver will be changed to 'lbfgs' in 0.22. Specify a solver to silence this warning.\n",
            "  FutureWarning)\n",
            "/usr/local/lib/python3.6/dist-packages/sklearn/linear_model/logistic.py:433: FutureWarning: Default solver will be changed to 'lbfgs' in 0.22. Specify a solver to silence this warning.\n",
            "  FutureWarning)\n",
            "/usr/local/lib/python3.6/dist-packages/sklearn/linear_model/logistic.py:433: FutureWarning: Default solver will be changed to 'lbfgs' in 0.22. Specify a solver to silence this warning.\n",
            "  FutureWarning)\n",
            "/usr/local/lib/python3.6/dist-packages/sklearn/linear_model/logistic.py:433: FutureWarning: Default solver will be changed to 'lbfgs' in 0.22. Specify a solver to silence this warning.\n",
            "  FutureWarning)\n",
            "/usr/local/lib/python3.6/dist-packages/sklearn/linear_model/logistic.py:433: FutureWarning: Default solver will be changed to 'lbfgs' in 0.22. Specify a solver to silence this warning.\n",
            "  FutureWarning)\n",
            "/usr/local/lib/python3.6/dist-packages/sklearn/linear_model/logistic.py:433: FutureWarning: Default solver will be changed to 'lbfgs' in 0.22. Specify a solver to silence this warning.\n",
            "  FutureWarning)\n",
            "/usr/local/lib/python3.6/dist-packages/sklearn/linear_model/logistic.py:433: FutureWarning: Default solver will be changed to 'lbfgs' in 0.22. Specify a solver to silence this warning.\n",
            "  FutureWarning)\n",
            "/usr/local/lib/python3.6/dist-packages/sklearn/linear_model/logistic.py:433: FutureWarning: Default solver will be changed to 'lbfgs' in 0.22. Specify a solver to silence this warning.\n",
            "  FutureWarning)\n",
            "/usr/local/lib/python3.6/dist-packages/sklearn/linear_model/logistic.py:433: FutureWarning: Default solver will be changed to 'lbfgs' in 0.22. Specify a solver to silence this warning.\n",
            "  FutureWarning)\n",
            "/usr/local/lib/python3.6/dist-packages/sklearn/linear_model/logistic.py:433: FutureWarning: Default solver will be changed to 'lbfgs' in 0.22. Specify a solver to silence this warning.\n",
            "  FutureWarning)\n",
            "/usr/local/lib/python3.6/dist-packages/sklearn/linear_model/logistic.py:433: FutureWarning: Default solver will be changed to 'lbfgs' in 0.22. Specify a solver to silence this warning.\n",
            "  FutureWarning)\n",
            "/usr/local/lib/python3.6/dist-packages/sklearn/linear_model/logistic.py:433: FutureWarning: Default solver will be changed to 'lbfgs' in 0.22. Specify a solver to silence this warning.\n",
            "  FutureWarning)\n",
            "/usr/local/lib/python3.6/dist-packages/sklearn/linear_model/logistic.py:433: FutureWarning: Default solver will be changed to 'lbfgs' in 0.22. Specify a solver to silence this warning.\n",
            "  FutureWarning)\n",
            "/usr/local/lib/python3.6/dist-packages/sklearn/linear_model/logistic.py:433: FutureWarning: Default solver will be changed to 'lbfgs' in 0.22. Specify a solver to silence this warning.\n",
            "  FutureWarning)\n",
            "/usr/local/lib/python3.6/dist-packages/sklearn/linear_model/logistic.py:433: FutureWarning: Default solver will be changed to 'lbfgs' in 0.22. Specify a solver to silence this warning.\n",
            "  FutureWarning)\n",
            "/usr/local/lib/python3.6/dist-packages/sklearn/linear_model/logistic.py:433: FutureWarning: Default solver will be changed to 'lbfgs' in 0.22. Specify a solver to silence this warning.\n",
            "  FutureWarning)\n",
            "/usr/local/lib/python3.6/dist-packages/sklearn/linear_model/logistic.py:433: FutureWarning: Default solver will be changed to 'lbfgs' in 0.22. Specify a solver to silence this warning.\n",
            "  FutureWarning)\n",
            "/usr/local/lib/python3.6/dist-packages/sklearn/linear_model/logistic.py:433: FutureWarning: Default solver will be changed to 'lbfgs' in 0.22. Specify a solver to silence this warning.\n",
            "  FutureWarning)\n",
            "/usr/local/lib/python3.6/dist-packages/sklearn/linear_model/logistic.py:433: FutureWarning: Default solver will be changed to 'lbfgs' in 0.22. Specify a solver to silence this warning.\n",
            "  FutureWarning)\n",
            "/usr/local/lib/python3.6/dist-packages/sklearn/linear_model/logistic.py:433: FutureWarning: Default solver will be changed to 'lbfgs' in 0.22. Specify a solver to silence this warning.\n",
            "  FutureWarning)\n",
            "/usr/local/lib/python3.6/dist-packages/sklearn/linear_model/logistic.py:433: FutureWarning: Default solver will be changed to 'lbfgs' in 0.22. Specify a solver to silence this warning.\n",
            "  FutureWarning)\n",
            "/usr/local/lib/python3.6/dist-packages/sklearn/linear_model/logistic.py:433: FutureWarning: Default solver will be changed to 'lbfgs' in 0.22. Specify a solver to silence this warning.\n",
            "  FutureWarning)\n",
            "/usr/local/lib/python3.6/dist-packages/sklearn/linear_model/logistic.py:433: FutureWarning: Default solver will be changed to 'lbfgs' in 0.22. Specify a solver to silence this warning.\n",
            "  FutureWarning)\n",
            "/usr/local/lib/python3.6/dist-packages/sklearn/linear_model/logistic.py:433: FutureWarning: Default solver will be changed to 'lbfgs' in 0.22. Specify a solver to silence this warning.\n",
            "  FutureWarning)\n",
            "/usr/local/lib/python3.6/dist-packages/sklearn/linear_model/logistic.py:433: FutureWarning: Default solver will be changed to 'lbfgs' in 0.22. Specify a solver to silence this warning.\n",
            "  FutureWarning)\n",
            "/usr/local/lib/python3.6/dist-packages/sklearn/linear_model/logistic.py:433: FutureWarning: Default solver will be changed to 'lbfgs' in 0.22. Specify a solver to silence this warning.\n",
            "  FutureWarning)\n",
            "/usr/local/lib/python3.6/dist-packages/sklearn/linear_model/logistic.py:433: FutureWarning: Default solver will be changed to 'lbfgs' in 0.22. Specify a solver to silence this warning.\n",
            "  FutureWarning)\n",
            "/usr/local/lib/python3.6/dist-packages/sklearn/linear_model/logistic.py:433: FutureWarning: Default solver will be changed to 'lbfgs' in 0.22. Specify a solver to silence this warning.\n",
            "  FutureWarning)\n",
            "/usr/local/lib/python3.6/dist-packages/sklearn/linear_model/logistic.py:433: FutureWarning: Default solver will be changed to 'lbfgs' in 0.22. Specify a solver to silence this warning.\n",
            "  FutureWarning)\n",
            "/usr/local/lib/python3.6/dist-packages/sklearn/linear_model/logistic.py:433: FutureWarning: Default solver will be changed to 'lbfgs' in 0.22. Specify a solver to silence this warning.\n",
            "  FutureWarning)\n",
            "/usr/local/lib/python3.6/dist-packages/sklearn/linear_model/logistic.py:433: FutureWarning: Default solver will be changed to 'lbfgs' in 0.22. Specify a solver to silence this warning.\n",
            "  FutureWarning)\n",
            "/usr/local/lib/python3.6/dist-packages/sklearn/linear_model/logistic.py:433: FutureWarning: Default solver will be changed to 'lbfgs' in 0.22. Specify a solver to silence this warning.\n",
            "  FutureWarning)\n",
            "/usr/local/lib/python3.6/dist-packages/sklearn/linear_model/logistic.py:433: FutureWarning: Default solver will be changed to 'lbfgs' in 0.22. Specify a solver to silence this warning.\n",
            "  FutureWarning)\n",
            "/usr/local/lib/python3.6/dist-packages/sklearn/linear_model/logistic.py:433: FutureWarning: Default solver will be changed to 'lbfgs' in 0.22. Specify a solver to silence this warning.\n",
            "  FutureWarning)\n",
            "/usr/local/lib/python3.6/dist-packages/sklearn/linear_model/logistic.py:433: FutureWarning: Default solver will be changed to 'lbfgs' in 0.22. Specify a solver to silence this warning.\n",
            "  FutureWarning)\n",
            "/usr/local/lib/python3.6/dist-packages/sklearn/linear_model/logistic.py:433: FutureWarning: Default solver will be changed to 'lbfgs' in 0.22. Specify a solver to silence this warning.\n",
            "  FutureWarning)\n",
            "/usr/local/lib/python3.6/dist-packages/sklearn/linear_model/logistic.py:433: FutureWarning: Default solver will be changed to 'lbfgs' in 0.22. Specify a solver to silence this warning.\n",
            "  FutureWarning)\n",
            "/usr/local/lib/python3.6/dist-packages/sklearn/linear_model/logistic.py:433: FutureWarning: Default solver will be changed to 'lbfgs' in 0.22. Specify a solver to silence this warning.\n",
            "  FutureWarning)\n",
            "/usr/local/lib/python3.6/dist-packages/sklearn/linear_model/logistic.py:433: FutureWarning: Default solver will be changed to 'lbfgs' in 0.22. Specify a solver to silence this warning.\n",
            "  FutureWarning)\n",
            "/usr/local/lib/python3.6/dist-packages/sklearn/linear_model/logistic.py:433: FutureWarning: Default solver will be changed to 'lbfgs' in 0.22. Specify a solver to silence this warning.\n",
            "  FutureWarning)\n",
            "/usr/local/lib/python3.6/dist-packages/sklearn/linear_model/logistic.py:433: FutureWarning: Default solver will be changed to 'lbfgs' in 0.22. Specify a solver to silence this warning.\n",
            "  FutureWarning)\n",
            "/usr/local/lib/python3.6/dist-packages/sklearn/linear_model/logistic.py:433: FutureWarning: Default solver will be changed to 'lbfgs' in 0.22. Specify a solver to silence this warning.\n",
            "  FutureWarning)\n",
            "/usr/local/lib/python3.6/dist-packages/sklearn/linear_model/logistic.py:433: FutureWarning: Default solver will be changed to 'lbfgs' in 0.22. Specify a solver to silence this warning.\n",
            "  FutureWarning)\n",
            "/usr/local/lib/python3.6/dist-packages/sklearn/linear_model/logistic.py:433: FutureWarning: Default solver will be changed to 'lbfgs' in 0.22. Specify a solver to silence this warning.\n",
            "  FutureWarning)\n",
            "/usr/local/lib/python3.6/dist-packages/sklearn/linear_model/logistic.py:433: FutureWarning: Default solver will be changed to 'lbfgs' in 0.22. Specify a solver to silence this warning.\n",
            "  FutureWarning)\n",
            "/usr/local/lib/python3.6/dist-packages/sklearn/linear_model/logistic.py:433: FutureWarning: Default solver will be changed to 'lbfgs' in 0.22. Specify a solver to silence this warning.\n",
            "  FutureWarning)\n",
            "/usr/local/lib/python3.6/dist-packages/sklearn/linear_model/logistic.py:433: FutureWarning: Default solver will be changed to 'lbfgs' in 0.22. Specify a solver to silence this warning.\n",
            "  FutureWarning)\n",
            "/usr/local/lib/python3.6/dist-packages/sklearn/linear_model/logistic.py:433: FutureWarning: Default solver will be changed to 'lbfgs' in 0.22. Specify a solver to silence this warning.\n",
            "  FutureWarning)\n",
            "/usr/local/lib/python3.6/dist-packages/sklearn/linear_model/logistic.py:433: FutureWarning: Default solver will be changed to 'lbfgs' in 0.22. Specify a solver to silence this warning.\n",
            "  FutureWarning)\n",
            "/usr/local/lib/python3.6/dist-packages/sklearn/linear_model/logistic.py:433: FutureWarning: Default solver will be changed to 'lbfgs' in 0.22. Specify a solver to silence this warning.\n",
            "  FutureWarning)\n",
            "/usr/local/lib/python3.6/dist-packages/sklearn/linear_model/logistic.py:433: FutureWarning: Default solver will be changed to 'lbfgs' in 0.22. Specify a solver to silence this warning.\n",
            "  FutureWarning)\n",
            "/usr/local/lib/python3.6/dist-packages/sklearn/linear_model/logistic.py:433: FutureWarning: Default solver will be changed to 'lbfgs' in 0.22. Specify a solver to silence this warning.\n",
            "  FutureWarning)\n",
            "/usr/local/lib/python3.6/dist-packages/sklearn/linear_model/logistic.py:433: FutureWarning: Default solver will be changed to 'lbfgs' in 0.22. Specify a solver to silence this warning.\n",
            "  FutureWarning)\n",
            "/usr/local/lib/python3.6/dist-packages/sklearn/linear_model/logistic.py:433: FutureWarning: Default solver will be changed to 'lbfgs' in 0.22. Specify a solver to silence this warning.\n",
            "  FutureWarning)\n",
            "/usr/local/lib/python3.6/dist-packages/sklearn/linear_model/logistic.py:433: FutureWarning: Default solver will be changed to 'lbfgs' in 0.22. Specify a solver to silence this warning.\n",
            "  FutureWarning)\n",
            "/usr/local/lib/python3.6/dist-packages/sklearn/linear_model/logistic.py:433: FutureWarning: Default solver will be changed to 'lbfgs' in 0.22. Specify a solver to silence this warning.\n",
            "  FutureWarning)\n",
            "/usr/local/lib/python3.6/dist-packages/sklearn/linear_model/logistic.py:433: FutureWarning: Default solver will be changed to 'lbfgs' in 0.22. Specify a solver to silence this warning.\n",
            "  FutureWarning)\n",
            "/usr/local/lib/python3.6/dist-packages/sklearn/linear_model/logistic.py:433: FutureWarning: Default solver will be changed to 'lbfgs' in 0.22. Specify a solver to silence this warning.\n",
            "  FutureWarning)\n",
            "/usr/local/lib/python3.6/dist-packages/sklearn/linear_model/logistic.py:433: FutureWarning: Default solver will be changed to 'lbfgs' in 0.22. Specify a solver to silence this warning.\n",
            "  FutureWarning)\n",
            "/usr/local/lib/python3.6/dist-packages/sklearn/linear_model/logistic.py:433: FutureWarning: Default solver will be changed to 'lbfgs' in 0.22. Specify a solver to silence this warning.\n",
            "  FutureWarning)\n",
            "/usr/local/lib/python3.6/dist-packages/sklearn/linear_model/logistic.py:433: FutureWarning: Default solver will be changed to 'lbfgs' in 0.22. Specify a solver to silence this warning.\n",
            "  FutureWarning)\n",
            "/usr/local/lib/python3.6/dist-packages/sklearn/linear_model/logistic.py:433: FutureWarning: Default solver will be changed to 'lbfgs' in 0.22. Specify a solver to silence this warning.\n",
            "  FutureWarning)\n",
            "/usr/local/lib/python3.6/dist-packages/sklearn/linear_model/logistic.py:433: FutureWarning: Default solver will be changed to 'lbfgs' in 0.22. Specify a solver to silence this warning.\n",
            "  FutureWarning)\n"
          ],
          "name": "stderr"
        },
        {
          "output_type": "stream",
          "text": [
            "Accuracy of logistic regression classifier on test set: 0.96\n",
            "Confusion matrix:  \n",
            " [[292717  11006]\n",
            " [   100    102]] \n",
            "\n",
            "              precision    recall  f1-score   support\n",
            "\n",
            "           0       1.00      0.96      0.98    303723\n",
            "           1       0.01      0.50      0.02       202\n",
            "\n",
            "   micro avg       0.96      0.96      0.96    303925\n",
            "   macro avg       0.50      0.73      0.50    303925\n",
            "weighted avg       1.00      0.96      0.98    303925\n",
            " \n",
            "\n"
          ],
          "name": "stdout"
        }
      ]
    },
    {
      "metadata": {
        "id": "5p8yjC8x2Xes",
        "colab_type": "text"
      },
      "cell_type": "markdown",
      "source": [
        "# Grid search parameter"
      ]
    },
    {
      "metadata": {
        "id": "MXK0InzFPRhm",
        "colab_type": "code",
        "colab": {}
      },
      "cell_type": "code",
      "source": [
        "c_values = [0.01,0.1,0.5,1,5,10]\n",
        "\n",
        "grid_values = [\n",
        "    {'C': c_values, 'penalty': ['l1'], 'solver' : ['liblinear']},\n",
        "    {'C': c_values, 'penalty': ['l2'], 'solver' : ['liblinear', 'newton-cg', 'lbfgs']}\n",
        "]\n",
        "\n",
        "grid = GridSearchCV(LogisticRegression(), param_grid = grid_values, cv = 3, scoring='f1', iid=False)\n",
        "grid.fit(x, y)\n",
        "print(grid.best_params_)\n",
        "print(grid.best_estimator_)\n",
        "\n",
        "# Grid search output:\n",
        "# {'C': 1, 'penalty': 'l2', 'solver': 'lbfgs'}\n",
        "# LogisticRegression(C=1, class_weight=None, dual=False, fit_intercept=True,\n",
        "#           intercept_scaling=1, max_iter=100, multi_class='warn',\n",
        "#           n_jobs=None, penalty='l2', random_state=None, solver='lbfgs',\n",
        "#           tol=0.0001, verbose=0, warm_start=False)"
      ],
      "execution_count": 0,
      "outputs": []
    },
    {
      "metadata": {
        "id": "a9uc7Nzn8QEL",
        "colab_type": "code",
        "outputId": "f440448c-ec68-46a4-ce53-bae0e81b4cf7",
        "colab": {
          "base_uri": "https://localhost:8080/",
          "height": 426
        }
      },
      "cell_type": "code",
      "source": [
        "\n",
        "logreg = LogisticRegression(C=1, class_weight=None, dual=False, fit_intercept=True,\n",
        "          intercept_scaling=1, max_iter=100, multi_class='warn',\n",
        "          n_jobs=None, penalty='l2', random_state=None, solver='lbfgs',\n",
        "          tol=0.0001, verbose=0, warm_start=False)\n",
        "\n",
        "x = train_df[selected_features]\n",
        "y = train_df['click']\n",
        "\n",
        "logreg.fit(x, y)\n",
        "\n",
        "x2 = val_df[selected_features]\n",
        "y2 = val_df['click']\n",
        "\n",
        "y_pred = logreg.predict(x2)\n",
        "print('Accuracy of logistic regression classifier on test set: {:.2f}'.format(logreg.score(x2, y2)))\n",
        "\n",
        "conf_mat = confusion_matrix(y2, y_pred)\n",
        "print('Confusion matrix: ','\\n',conf_mat, '\\n')\n",
        "print(classification_report(y2, y_pred), '\\n')\n"
      ],
      "execution_count": 0,
      "outputs": [
        {
          "output_type": "stream",
          "text": [
            "/usr/local/lib/python3.6/dist-packages/sklearn/linear_model/logistic.py:758: ConvergenceWarning: lbfgs failed to converge. Increase the number of iterations.\n",
            "  \"of iterations.\", ConvergenceWarning)\n"
          ],
          "name": "stderr"
        },
        {
          "output_type": "stream",
          "text": [
            "Accuracy of logistic regression classifier on test set: 0.96\n",
            "Confusion matrix:  \n",
            " [[292724  10999]\n",
            " [   100    102]] \n",
            "\n",
            "              precision    recall  f1-score   support\n",
            "\n",
            "           0       1.00      0.96      0.98    303723\n",
            "           1       0.01      0.50      0.02       202\n",
            "\n",
            "   micro avg       0.96      0.96      0.96    303925\n",
            "   macro avg       0.50      0.73      0.50    303925\n",
            "weighted avg       1.00      0.96      0.98    303925\n",
            " \n",
            "\n"
          ],
          "name": "stdout"
        }
      ]
    },
    {
      "metadata": {
        "id": "5WhbcnKOpE2A",
        "colab_type": "text"
      },
      "cell_type": "markdown",
      "source": [
        "# Save model"
      ]
    },
    {
      "metadata": {
        "id": "luOecY_lhC8i",
        "colab_type": "code",
        "colab": {}
      },
      "cell_type": "code",
      "source": [
        "selected_features = ['weekday_0', 'weekday_3', 'weekday_4','weekday_5', 'weekday_6', 'adexchange_1.0', 'adexchange_2.0', 'adexchange_3.0',\n",
        "                     'adexchange_4.0', 'slotvisibility_1', 'slotvisibility_FifthView','slotvisibility_FirstView', 'slotvisibility_FourthView',\n",
        "                     'slotvisibility_Na', 'slotvisibility_OtherView', 'slotformat_0', 'slotformat_1', 'slotformat_5', 'slotformat_Na', \n",
        "                     'advertiser_2259','advertiser_2261', 'advertiser_2997', 'advertiser_3358', 'advertiser_3386', 'domain5', 'region_0', \n",
        "                     'region_1', 'region_2', 'region_3', 'region_15', 'region_40', 'region_55', 'region_79', 'region_94', 'region_106', \n",
        "                     'region_124', 'region_183', 'region_201', 'region_216', 'region_253', 'region_275', 'region_276', 'region_298', \n",
        "                     'region_308','region_325','region_333','region_344','region_359', 'region_368','region_374','region_393','region_394',\n",
        "                     'region_395','usertag_10006','usertag_10063','usertag_13496','usertag_13403','usertag_10031','usertag_10059',\n",
        "                     'usertag_11278','usertag_11724','usertag_16661','usertag_11379','usertag_10684','usertag_11576', 'usertag_11632',\n",
        "                     'usertag_13042','usertag_14273','usertag_13776','usertag_10079','usertag_10149','usertag_10120','usertag_10133',\n",
        "                     'usertag_10116','usertag_10076','usertag_11092','usertag_10131','usertag_10115','usertag_10117','usertag_10126',\n",
        "                     'usertag_16593','usertag_11944','usertag_10148','usertag_16706','usertag_10123','usertag_10074','usertag_13678',\n",
        "                     'usertag_10114','usertag_10129','usertag_10146','usertag_10145','usertag_11512','usertag_16617','usertag_10147',\n",
        "                     'usertag_16753','usertag_10140','usertag_10138','usertag_10142','usertag_13874','usertag_10130','os_android','os_ios',\n",
        "                     'os_linux','os_other','os_windows','browser_chrome','browser_firefox','browser_maxthon','browser_opera','browser_other',\n",
        "                     'browser_safari','browser_theworld','slotsize_1000*90','slotsize_125*125','slotsize_180*600','slotsize_200*200',\n",
        "                     'slotsize_250*250','slotsize_300*100','slotsize_300*250','slotsize_300*300','slotsize_320*50','slotsize_336*280',\n",
        "                     'slotsize_360*300','slotsize_468*60','slotsize_620*60','slotsize_728*90','slotsize_910*90','slotsize_960*90',\n",
        "                     'slotsize_980*80','slotsize_980*90']\n",
        "\n",
        "x = train_df[selected_features]\n",
        "y = train_df['click']\n",
        "\n",
        "x2 = val_df[selected_features]\n",
        "y2 = val_df['click']"
      ],
      "execution_count": 0,
      "outputs": []
    },
    {
      "metadata": {
        "id": "lJGy2QL6lhzD",
        "colab_type": "code",
        "colab": {}
      },
      "cell_type": "code",
      "source": [
        "# # save model\n",
        "# filename = '/content/gdrive/My Drive/we_data/Models/Logistic_Regression_Model.sav'\n",
        "# joblib.dump(logreg, filename)"
      ],
      "execution_count": 0,
      "outputs": []
    },
    {
      "metadata": {
        "id": "Q9SgJdDBQheT",
        "colab_type": "code",
        "outputId": "416bd43a-ac27-4c61-b349-addc3bebd4b5",
        "colab": {
          "base_uri": "https://localhost:8080/",
          "height": 34
        }
      },
      "cell_type": "code",
      "source": [
        "filename = '/content/gdrive/My Drive/we_data/Models/Logistic_Regression_Model.sav'\n",
        "loaded_logreg = joblib.load(filename)\n",
        "result = loaded_logreg.score(x2, y2)\n",
        "print(result)"
      ],
      "execution_count": 0,
      "outputs": [
        {
          "output_type": "stream",
          "text": [
            "0.9634811219873324\n"
          ],
          "name": "stdout"
        }
      ]
    },
    {
      "metadata": {
        "id": "fQYMjjcU2_Ph",
        "colab_type": "text"
      },
      "cell_type": "markdown",
      "source": [
        "# Linear Bidding Function (With recalibration)"
      ]
    },
    {
      "metadata": {
        "id": "xGLch_UL_xDj",
        "colab_type": "code",
        "colab": {}
      },
      "cell_type": "code",
      "source": [
        "# Linear strategy\n",
        "# recalibrate model * 100\n",
        "BASE_BID = []\n",
        "CLICKS = []\n",
        "IMPRESSIONS = [] \n",
        "SPEND = [] \n",
        "CTR = [] \n",
        "CPM = [] \n",
        "eCPC = []\n",
        "\n",
        "pCTR = loaded_logreg.predict_proba(x2)[:,1]\n",
        "w = 7172/(2430981-1793)\n",
        "pCTR = pCTR/(pCTR+(1-pCTR)/w)\n",
        "pCTR *= 100\n",
        "avgCTR = len(train_df[train_df['click']==1])/len(train_df)\n",
        "bid = 0\n",
        "\n",
        "\n",
        "for b in range(1,501): # try different base bids to find bid price for each row\n",
        "  current_bid = b*pCTR/avgCTR\n",
        "  budget = 6250 * 1000\n",
        "  clicks = 0\n",
        "  impressions = 0\n",
        "\n",
        "  for j in range(len(current_bid)): # check the bid price can give how many clicks given the base bid\n",
        "    payprice = val_df.payprice[j]\n",
        "    if current_bid[j] > payprice:\n",
        "      budget = budget - payprice\n",
        "      if budget >=0:\n",
        "        impressions+=1\n",
        "        if (val_df.click[j]==1):\n",
        "                clicks +=1\n",
        "      else:\n",
        "        budget = budget+payprice\n",
        "        break     \n",
        "\n",
        "\n",
        "  Ctr = clicks/impressions\n",
        "  Spent = 6250000 - budget\n",
        "  cPM = 1000*Spent/impressions\n",
        "  if (clicks >0):\n",
        "      ecPC = Spent/clicks\n",
        "  else:\n",
        "      ecPC =0\n",
        "\n",
        "  BASE_BID.append(b)\n",
        "  CLICKS.append(clicks)\n",
        "  IMPRESSIONS.append(impressions)\n",
        "  SPEND.append(Spent)\n",
        "  CTR.append(Ctr)\n",
        "  eCPC.append(ecPC)\n",
        "  CPM.append(cPM)\n",
        "  print ('For base bid =',b, ' impressions =',impressions,' Clicks =',clicks,' Spent amount = ',Spent, ' eCPC is ',ecPC) \n",
        "  print ( ' CTR =',Ctr, ' CPM is ',cPM)\n",
        "  print (' ------->')\n",
        "\n",
        "MAX_CLICKS = max(CLICKS)\n",
        "best_index = CLICKS.index(max(CLICKS))\n",
        "FINAL_BASE_BID = BASE_BID[best_index]\n",
        "FINAL_IMPRESSIONS = IMPRESSIONS[best_index]\n",
        "FINAL_SPEND = SPEND[best_index]\n",
        "FINAL_CTR = CTR[best_index]\n",
        "FINAL_eCPC = eCPC[best_index]\n",
        "FINAL_CPM = CPM[best_index]\n",
        "\n",
        "\n",
        "# Output:\n",
        "# For base bid = 305  impressions = 129879  Clicks = 158  Spent amount =  6250000  eCPC is  39556.962025316454\n",
        "#  CTR = 0.0012165169118949176  CPM is  48121.7132869825\n"
      ],
      "execution_count": 0,
      "outputs": []
    },
    {
      "metadata": {
        "id": "BzmN3MiX1s6s",
        "colab_type": "code",
        "outputId": "fe8d0055-ecf1-4ed4-a3e5-3e80de31729e",
        "colab": {
          "base_uri": "https://localhost:8080/",
          "height": 376
        }
      },
      "cell_type": "code",
      "source": [
        "plt.plot(BASE_BID, CLICKS)\n",
        "plt.xlabel('Base Bids')\n",
        "plt.ylabel('Number of Clicks')\n",
        "plt.title('Base Bids vs Number of Clicks')\n",
        "plt.show()"
      ],
      "execution_count": 0,
      "outputs": [
        {
          "output_type": "display_data",
          "data": {
            "image/png": "[encoded data removed]",
            "text/plain": [
              "<Figure size 576x396 with 1 Axes>"
            ]
          },
          "metadata": {
            "tags": []
          }
        }
      ]
    },
    {
      "metadata": {
        "id": "JWljPDpKGvpF",
        "colab_type": "text"
      },
      "cell_type": "markdown",
      "source": [
        "Predict on val"
      ]
    },
    {
      "metadata": {
        "id": "q-g-vyBWc3mp",
        "colab_type": "code",
        "colab": {}
      },
      "cell_type": "code",
      "source": [
        "filename = '/content/gdrive/My Drive/we_data/Models/Logistic_Regression_Model.sav'\n",
        "loaded_logreg = joblib.load(filename)\n",
        "\n",
        "y_pred = loaded_logreg.predict(x2)\n",
        "pCTR = loaded_logreg.predict_proba(x2)[:,1]\n",
        "w = 7172/(2430981-1793)\n",
        "pCTR = pCTR/(pCTR+(1-pCTR)/w)\n",
        "pCTR *= 100\n",
        "avgCTR = len(train_df[train_df['click']==1])/len(train_df)\n",
        "final_bids = 305*pCTR/avgCTR\n",
        "\n",
        "group_df = val_df[['bidid']]\n",
        "group_df['bidprice'] = final_bids\n",
        "group_df['Probability'] = pCTR\n",
        "group_df['Click'] = y_pred\n",
        "group_df.to_csv('/content/gdrive/My Drive/we_data/SUBMISSION_BIDS/DIFFERENT_pBIDPRICES/VAL_LR_LINEAR_RECAL.csv', sep=',')\n",
        "group_df.head()\n"
      ],
      "execution_count": 0,
      "outputs": []
    },
    {
      "metadata": {
        "id": "WEvhK8WyGy00",
        "colab_type": "text"
      },
      "cell_type": "markdown",
      "source": [
        "Predict on test"
      ]
    },
    {
      "metadata": {
        "id": "rbatYYTUiZuA",
        "colab_type": "code",
        "colab": {}
      },
      "cell_type": "code",
      "source": [
        "# test_df = pd.read_csv('/content/gdrive/My Drive/we_data/FINAL_CSVs/FINAL_TEST_v1.csv')\n",
        "# test_df['click'] = 0\n",
        "# test_df = test_df.drop('Unnamed: 0',axis=1)\n",
        "\n",
        "# filename = '/content/gdrive/My Drive/we_data/Models/Logistic_Regression_Model.sav'\n",
        "# loaded_logreg = joblib.load(filename)\n",
        "\n",
        "# x3 = test_df[selected_features]\n",
        "# y3 = test_df['click']\n",
        "\n",
        "# y_pred = loaded_logreg.predict(x3)\n",
        "# pCTR = loaded_logreg.predict_proba(x3)[:,1]\n",
        "# w = 7172/(2430981-1793)\n",
        "# pCTR = pCTR/(pCTR+(1-pCTR)/w)\n",
        "# pCTR *= 100\n",
        "# avgCTR = len(train_df[train_df['click']==1])/len(train_df)\n",
        "# final_bids = 305*pCTR/avgCTR\n",
        "\n",
        "# group_df = pd.read_csv('/content/gdrive/My Drive/we_data/Group_xx.csv')\n",
        "# group_df['bidprice'] = final_bids\n",
        "# group_df['Probability'] = pCTR\n",
        "# group_df['Click'] = y_pred\n",
        "# group_df.to_csv('/content/gdrive/My Drive/we_data/SUBMISSION_BIDS/DIFFERENT_pBIDPRICES/FINAL_LR_LINEAR_RECAL.csv', sep=',')\n",
        "# group_df.head()"
      ],
      "execution_count": 0,
      "outputs": []
    },
    {
      "metadata": {
        "id": "ZDiDRfkPjdRS",
        "colab_type": "text"
      },
      "cell_type": "markdown",
      "source": [
        "# Linear Bidding Function (No recalibration)"
      ]
    },
    {
      "metadata": {
        "id": "PFVLa9QYRI5Z",
        "colab_type": "code",
        "colab": {}
      },
      "cell_type": "code",
      "source": [
        "# Linear strategy\n",
        "# without recalibration\n",
        "\n",
        "pCTR = loaded_logreg.predict_proba(x2)[:,1]\n",
        "# w = 7172/(2430981-1793)\n",
        "# re_CTR = pCTR/(pCTR+(1-pCTR)/w)\n",
        "avgCTR = len(train_df[train_df['click']==1])/len(train_df)\n",
        "bid = 0\n",
        "\n",
        "\n",
        "for b in range(1,301): # try different base bids to find bid price for each row\n",
        "  current_bid = b*pCTR/avgCTR\n",
        "  budget = 6250 * 1000\n",
        "  clicks = 0\n",
        "  impressions = 0\n",
        "\n",
        "  for j in range(len(current_bid)): # check the bid price can give how many clicks given the base bid\n",
        "    payprice = val_df.payprice[j]\n",
        "    if current_bid[j] > payprice:\n",
        "      budget = budget - payprice\n",
        "      if budget >=0:\n",
        "        impressions+=1\n",
        "        if (val_df.click[j]==1):\n",
        "                clicks +=1\n",
        "      else:\n",
        "        budget = budget+payprice\n",
        "        break     \n",
        "\n",
        "\n",
        "  Ctr = clicks/impressions\n",
        "  Spent = 6250000 - budget\n",
        "  cPM = 1000*Spent/impressions\n",
        "  if (clicks >0):\n",
        "      ecPC = Spent/clicks\n",
        "  else:\n",
        "      ecPC =0\n",
        "\n",
        "  BASE_BID.append(b)\n",
        "  CLICKS.append(clicks)\n",
        "  IMPRESSIONS.append(impressions)\n",
        "  SPEND.append(Spent)\n",
        "  CTR.append(Ctr)\n",
        "  eCPC.append(ecPC)\n",
        "  CPM.append(cPM)\n",
        "  print ('For base bid =',b, ' impressions =',impressions,' Clicks =',clicks,' Spent amount = ',Spent, ' eCPC is ',ecPC) \n",
        "  print ( ' CTR =',Ctr, ' CPM is ',cPM)\n",
        "  print (' ------->')\n",
        "\n",
        "\n",
        "# Without recalibration\n",
        "# For base bid = 107  impressions = 135244  Clicks = 157  Spent amount =  6242909  eCPC is  39763.75159235669\n",
        "#  CTR = 0.00116086480731123  CPM is  46160.33983023276\n"
      ],
      "execution_count": 0,
      "outputs": []
    },
    {
      "metadata": {
        "id": "KfZX94mKdNTC",
        "colab_type": "text"
      },
      "cell_type": "markdown",
      "source": [
        "Predict on validation"
      ]
    },
    {
      "metadata": {
        "id": "t_GqlmZ6dMpP",
        "colab_type": "code",
        "colab": {}
      },
      "cell_type": "code",
      "source": [
        "filename = '/content/gdrive/My Drive/we_data/Models/Logistic_Regression_Model.sav'\n",
        "loaded_logreg = joblib.load(filename)\n",
        "\n",
        "y_pred = loaded_logreg.predict(x2)\n",
        "pCTR = loaded_logreg.predict_proba(x2)[:,1]\n",
        "# w = 7172/(2430981-1793)\n",
        "# pCTR = pCTR/(pCTR+(1-pCTR)/w)\n",
        "# pCTR *= 100\n",
        "avgCTR = len(train_df[train_df['click']==1])/len(train_df)\n",
        "final_bids = 107*pCTR/avgCTR\n",
        "\n",
        "group_df = val_df[['bidid']]\n",
        "group_df['bidprice'] = final_bids\n",
        "group_df['Probability'] = pCTR\n",
        "group_df['Click'] = y_pred\n",
        "group_df.to_csv('/content/gdrive/My Drive/we_data/SUBMISSION_BIDS/DIFFERENT_pBIDPRICES/VAL_LR_LINEAR_NO_RECAL.csv', sep=',')\n",
        "group_df.head()\n"
      ],
      "execution_count": 0,
      "outputs": []
    },
    {
      "metadata": {
        "id": "7hA_HpYjdJ6k",
        "colab_type": "text"
      },
      "cell_type": "markdown",
      "source": [
        "Predict on test"
      ]
    },
    {
      "metadata": {
        "id": "KryvY6uRrjHJ",
        "colab_type": "code",
        "colab": {}
      },
      "cell_type": "code",
      "source": [
        "# test_df = pd.read_csv('/content/gdrive/My Drive/we_data/FINAL_CSVs/FINAL_TEST_v1.csv')\n",
        "# test_df['click'] = 0\n",
        "# test_df = test_df.drop('Unnamed: 0',axis=1)\n",
        "\n",
        "# filename = '/content/gdrive/My Drive/we_data/Models/Logistic_Regression_Model.sav'\n",
        "# loaded_logreg = joblib.load(filename)\n",
        "\n",
        "# x3 = test_df[selected_features]\n",
        "# y3 = test_df['click']\n",
        "\n",
        "# y_pred = loaded_logreg.predict(x3)\n",
        "# pCTR = loaded_logreg.predict_proba(x3)[:,1]\n",
        "# # w = 7172/(2430981-1793)\n",
        "# # pCTR = pCTR/(pCTR+(1-pCTR)/w)\n",
        "# # pCTR *= 100\n",
        "# avgCTR = len(train_df[train_df['click']==1])/len(train_df)\n",
        "# final_bids = 107*pCTR/avgCTR\n",
        "\n",
        "# group_df = pd.read_csv('/content/gdrive/My Drive/we_data/Group_xx.csv')\n",
        "# group_df['bidprice'] = final_bids\n",
        "# group_df['Probability'] = pCTR\n",
        "# group_df['Click'] = y_pred\n",
        "# group_df.to_csv('/content/gdrive/My Drive/we_data/SUBMISSION_BIDS/DIFFERENT_pBIDPRICES/FINAL_LR_LINEAR_NO_RECAL.csv', sep=',')\n",
        "# group_df.head()"
      ],
      "execution_count": 0,
      "outputs": []
    },
    {
      "metadata": {
        "id": "H2ncSXmnbYqa",
        "colab_type": "text"
      },
      "cell_type": "markdown",
      "source": [
        "# Squared Function (No recalibration)"
      ]
    },
    {
      "metadata": {
        "id": "ugy59xh6bdYV",
        "colab_type": "code",
        "colab": {}
      },
      "cell_type": "code",
      "source": [
        "# Linear strategy\n",
        "# without recalibration\n",
        "\n",
        "\n",
        "pCTR = loaded_logreg.predict_proba(x2)[:,1]\n",
        "# w = 7172/(2430981-1793)\n",
        "# re_CTR = pCTR/(pCTR+(1-pCTR)/w)\n",
        "avgCTR = len(train_df[train_df['click']==1])/len(train_df)\n",
        "bid = 0\n",
        "\n",
        "\n",
        "for b in range(1,301): # try different base bids to find bid price for each row\n",
        "  current_bid = b*(pCTR/avgCTR)**2\n",
        "  budget = 6250 * 1000\n",
        "  clicks = 0\n",
        "  impressions = 0\n",
        "\n",
        "  for j in range(len(current_bid)): # check the bid price can give how many clicks given the base bid\n",
        "    payprice = val_df.payprice[j]\n",
        "    if current_bid[j] > payprice:\n",
        "      budget = budget - payprice\n",
        "      if budget >=0:\n",
        "        impressions+=1\n",
        "        if (val_df.click[j]==1):\n",
        "                clicks +=1\n",
        "      else:\n",
        "        budget = budget+payprice\n",
        "        break     \n",
        "\n",
        "\n",
        "  Ctr = clicks/impressions\n",
        "  Spent = 6250000 - budget\n",
        "  cPM = 1000*Spent/impressions\n",
        "  if (clicks >0):\n",
        "      ecPC = Spent/clicks\n",
        "  else:\n",
        "      ecPC =0\n",
        "\n",
        "  BASE_BID.append(b)\n",
        "  CLICKS.append(clicks)\n",
        "  IMPRESSIONS.append(impressions)\n",
        "  SPEND.append(Spent)\n",
        "  CTR.append(Ctr)\n",
        "  eCPC.append(ecPC)\n",
        "  CPM.append(cPM)\n",
        "  print ('For base bid =',b, ' impressions =',impressions,' Clicks =',clicks,' Spent amount = ',Spent, ' eCPC is ',ecPC) \n",
        "  print ( ' CTR =',Ctr, ' CPM is ',cPM)\n",
        "  print (' ------->')\n",
        "\n",
        "\n",
        "# For base bid = 135  impressions = 110916  Clicks = 155  Spent amount =  6153727  eCPC is  39701.46451612903\n",
        "#  CTR = 0.0013974539290994986  CPM is  55480.96757906884\n",
        "\n"
      ],
      "execution_count": 0,
      "outputs": []
    },
    {
      "metadata": {
        "id": "TcFzTEi9btQe",
        "colab_type": "code",
        "colab": {}
      },
      "cell_type": "code",
      "source": [
        "filename = '/content/gdrive/My Drive/we_data/Models/Logistic_Regression_Model.sav'\n",
        "loaded_logreg = joblib.load(filename)\n",
        "\n",
        "y_pred = loaded_logreg.predict(x2)\n",
        "pCTR = loaded_logreg.predict_proba(x2)[:,1]\n",
        "# w = 7172/(2430981-1793)\n",
        "# pCTR = pCTR/(pCTR+(1-pCTR)/w)\n",
        "# pCTR *= 100\n",
        "avgCTR = len(train_df[train_df['click']==1])/len(train_df)\n",
        "final_bids = 135*(pCTR/avgCTR)**2\n",
        "\n",
        "group_df = val_df[['bidid']]\n",
        "group_df['bidprice'] = final_bids\n",
        "group_df['Probability'] = pCTR\n",
        "group_df['Click'] = y_pred\n",
        "group_df.to_csv('/content/gdrive/My Drive/we_data/SUBMISSION_BIDS/DIFFERENT_pBIDPRICES/VAL_LR_SQUARED_NO_RECAL.csv', sep=',')\n",
        "group_df.head()"
      ],
      "execution_count": 0,
      "outputs": []
    },
    {
      "metadata": {
        "id": "evW3ZwlPTeBO",
        "colab_type": "text"
      },
      "cell_type": "markdown",
      "source": [
        "# ORTB 1 (With recalibration)"
      ]
    },
    {
      "metadata": {
        "id": "VCz19MkgTcky",
        "colab_type": "code",
        "colab": {}
      },
      "cell_type": "code",
      "source": [
        "# non-linear bidding strategy\n",
        "# ORTB1 with recalibration\n",
        "# find c\n",
        "\n",
        "pCTR = loaded_logreg.predict_proba(x2)[:,1]\n",
        "w = 7172/(2430981-1793)\n",
        "pCTR = pCTR/(pCTR+(1-pCTR)/w)\n",
        "pCTR *= 100\n",
        "# lamda = [1e-9, 5e-9, 1e-8, 5e-8, 1e-7, 5e-7]\n",
        "avgCTR = len(train_df[train_df['click']==1])/len(train_df)\n",
        "lamda = 1e-3\n",
        "\n",
        "# for lamda in lamda_list:\n",
        "for c in range(1, 301):\n",
        "  current_bid = ((c/lamda)*pCTR + c**2)**0.5 - c\n",
        "  budget = 6250 * 1000\n",
        "  clicks = 0\n",
        "  impressions = 0\n",
        "\n",
        "  winning_rate = current_bid/(c+current_bid)\n",
        "\n",
        "  for j in range(len(current_bid)): # check the bid price can give how many clicks given the base bid\n",
        "    payprice = val_df.payprice[j]\n",
        "    if current_bid[j] > payprice:\n",
        "      budget = budget - payprice\n",
        "      if budget >=0:\n",
        "        impressions+=1\n",
        "        if (val_df.click[j]==1):\n",
        "                clicks +=1\n",
        "      else:\n",
        "        budget = budget+payprice\n",
        "        break     \n",
        "\n",
        "  Ctr = clicks/impressions\n",
        "  Spent = 6250000 - budget\n",
        "  cPM = 1000*Spent/impressions\n",
        "  if (clicks >0):\n",
        "      ecPC = Spent/clicks\n",
        "  else:\n",
        "      ecPC =0\n",
        "\n",
        "  print ('For lambda = ', lamda, ' c = ', c, ' impressions =',impressions,' Clicks =',clicks,' Spent amount = ',Spent, ' eCPC is ',ecPC) \n",
        "  print ( ' CTR =',Ctr, ' CPM is ',cPM)\n",
        "  print (' ------->')\n",
        "\n",
        "\n",
        "# For lambda =  0.001  c =  239  impressions = 45777  Clicks = 105  Spent amount =  1459447  eCPC is  13899.495238095238\n",
        "#  CTR = 0.0022937282915000985  CPM is  31881.66546518994"
      ],
      "execution_count": 0,
      "outputs": []
    },
    {
      "metadata": {
        "id": "K9elExtXytYZ",
        "colab_type": "code",
        "colab": {}
      },
      "cell_type": "code",
      "source": [
        "# non-linear bidding strategy\n",
        "# ORTB1 with recalibration\n",
        "# find lamda\n",
        "\n",
        "pCTR = loaded_logreg.predict_proba(x2)[:,1]\n",
        "w = 7172/(2430981-1793)\n",
        "pCTR = pCTR/(pCTR+(1-pCTR)/w)\n",
        "pCTR *= 100\n",
        "avgCTR = len(train_df[train_df['click']==1])/len(train_df)\n",
        "# lamda_list = [0.1, 0.05, 0.01, 0.005, 0.001, 0.0005, 0.0001, 0.00005, 0.00001]\n",
        "# lamda_list = [0.001, 0.0008, 0.00075, 0.0005, 0.0003, 0.00025]\n",
        "lamda_list = [0.000275, 0.00025, 0.000245, 0.00024, 0.000235, 0.00023]\n",
        "\n",
        "# for lamda in lamda_list:\n",
        "for lamda in lamda_list:\n",
        "  current_bid = ((239/lamda)*pCTR + c**2)**0.5 - c\n",
        "  budget = 6250 * 1000\n",
        "  clicks = 0\n",
        "  impressions = 0\n",
        "\n",
        "  winning_rate = current_bid/(c+current_bid)\n",
        "\n",
        "  for j in range(len(current_bid)): # check the bid price can give how many clicks given the base bid\n",
        "    payprice = val_df.payprice[j]\n",
        "    if current_bid[j] > payprice:\n",
        "      budget = budget - payprice\n",
        "      if budget >=0:\n",
        "        impressions+=1\n",
        "        if (val_df.click[j]==1):\n",
        "                clicks +=1\n",
        "      else:\n",
        "        budget = budget+payprice\n",
        "        break     \n",
        "\n",
        "  Ctr = clicks/impressions\n",
        "  Spent = 6250000 - budget\n",
        "  cPM = 1000*Spent/impressions\n",
        "  if (clicks >0):\n",
        "      ecPC = Spent/clicks\n",
        "  else:\n",
        "      ecPC =0\n",
        "\n",
        "  print ('For lambda = ', lamda, ' c = ', 239, ' impressions =',impressions,' Clicks =',clicks,' Spent amount = ',Spent, ' eCPC is ',ecPC) \n",
        "  print ( ' CTR =',Ctr, ' CPM is ',cPM)\n",
        "  print (' ------->')\n",
        "\n",
        "\n",
        "# For lambda =  0.000235  c =  239  impressions = 131906  Clicks = 157  Spent amount =  6135344  eCPC is  39078.62420382166\n",
        "#  CTR = 0.0011902415356390156  CPM is  46513.00168301669\n"
      ],
      "execution_count": 0,
      "outputs": []
    },
    {
      "metadata": {
        "id": "xCzPrdaQgGZX",
        "colab_type": "text"
      },
      "cell_type": "markdown",
      "source": [
        "Predict on Validation"
      ]
    },
    {
      "metadata": {
        "id": "hyslFdc7f8Wd",
        "colab_type": "code",
        "colab": {}
      },
      "cell_type": "code",
      "source": [
        "filename = '/content/gdrive/My Drive/we_data/Models/Logistic_Regression_Model.sav'\n",
        "loaded_logreg = joblib.load(filename)\n",
        "\n",
        "y_pred = loaded_logreg.predict(x2)\n",
        "pCTR = loaded_logreg.predict_proba(x2)[:,1]\n",
        "w = 7172/(2430981-1793)\n",
        "pCTR = pCTR/(pCTR+(1-pCTR)/w)\n",
        "pCTR *= 100\n",
        "c = 239\n",
        "lamda = 0.000235\n",
        "final_bids = ((c/lamda)*pCTR + c**2)**0.5 - c\n",
        "\n",
        "group_df = val_df[['bidid']]\n",
        "group_df['bidprice'] = final_bids\n",
        "group_df['Probability'] = pCTR\n",
        "group_df['Click'] = y_pred\n",
        "group_df.to_csv('/content/gdrive/My Drive/we_data/SUBMISSION_BIDS/DIFFERENT_pBIDPRICES/VAL_LR_ORTB1_RECAL.csv', sep=',')\n",
        "group_df.head()"
      ],
      "execution_count": 0,
      "outputs": []
    },
    {
      "metadata": {
        "id": "tdDj6_JYgDqX",
        "colab_type": "text"
      },
      "cell_type": "markdown",
      "source": [
        "Predict on Test"
      ]
    },
    {
      "metadata": {
        "id": "o5-J7vOKmfKs",
        "colab_type": "code",
        "colab": {}
      },
      "cell_type": "code",
      "source": [
        "# test_df = pd.read_csv('/content/gdrive/My Drive/we_data/FINAL_CSVs/FINAL_TEST_v1.csv')\n",
        "# test_df['click'] = 0\n",
        "# test_df = test_df.drop('Unnamed: 0',axis=1)\n",
        "\n",
        "# filename = '/content/gdrive/My Drive/we_data/Models/Logistic_Regression_Model.sav'\n",
        "# loaded_logreg = joblib.load(filename)\n",
        "\n",
        "# x3 = test_df[selected_features]\n",
        "# y3 = test_df['click']\n",
        "\n",
        "# y_pred = loaded_logreg.predict(x3)\n",
        "# pCTR = loaded_logreg.predict_proba(x3)[:,1]\n",
        "# w = 7172/(2430981-1793)\n",
        "# pCTR = pCTR/(pCTR+(1-pCTR)/w)\n",
        "# pCTR *= 100\n",
        "# c = 239\n",
        "# lamda = 0.000235\n",
        "# final_bids = ((c/lamda)*pCTR + c**2)**0.5 - c\n",
        "\n",
        "# group_df = pd.read_csv('/content/gdrive/My Drive/we_data/Group_xx.csv')\n",
        "# group_df['bidprice'] = final_bids\n",
        "# group_df['Probability'] = pCTR\n",
        "# group_df['Click'] = y_pred\n",
        "# group_df.to_csv('/content/gdrive/My Drive/we_data/SUBMISSION_BIDS/DIFFERENT_pBIDPRICES/FINAL_LR_ORTB1_RECAL.csv', sep=',')\n",
        "# group_df.head()"
      ],
      "execution_count": 0,
      "outputs": []
    },
    {
      "metadata": {
        "id": "FVp1V6QqKPZL",
        "colab_type": "text"
      },
      "cell_type": "markdown",
      "source": [
        "# ORTB 1 (No recalibration)"
      ]
    },
    {
      "metadata": {
        "id": "ADgl6nr9KSAD",
        "colab_type": "code",
        "colab": {}
      },
      "cell_type": "code",
      "source": [
        "# non-linear bidding strategy\n",
        "# find c\n",
        "\n",
        "pCTR = loaded_logreg.predict_proba(x2)[:,1]\n",
        "# w = 7172/(2430981-1793)\n",
        "# pCTR = pCTR/(pCTR+(1-pCTR)/w)\n",
        "# pCTR *= 100\n",
        "# lamda_list = [0.1, 0.05, 0.01, 0.005, 0.001, 0.0005, 0.0001, 0.00005, 0.00001]\n",
        "avgCTR = len(train_df[train_df['click']==1])/len(train_df)\n",
        "lamda = 1e-3\n",
        "\n",
        "# for lamda in lamda_list:\n",
        "for c in range(1, 501):\n",
        "  current_bid = ((c/lamda)*pCTR + c**2)**0.5 - c\n",
        "  budget = 6250 * 1000\n",
        "  clicks = 0\n",
        "  impressions = 0\n",
        "\n",
        "  winning_rate = current_bid/(c+current_bid)\n",
        "\n",
        "  for j in range(len(current_bid)): # check the bid price can give how many clicks given the base bid\n",
        "    payprice = val_df.payprice[j]\n",
        "    if current_bid[j] > payprice:\n",
        "      budget = budget - payprice\n",
        "      if budget >=0:\n",
        "        impressions+=1\n",
        "        if (val_df.click[j]==1):\n",
        "                clicks +=1\n",
        "      else:\n",
        "        budget = budget+payprice\n",
        "        break     \n",
        "\n",
        "  Ctr = clicks/impressions\n",
        "  Spent = 6250000 - budget\n",
        "  cPM = 1000*Spent/impressions\n",
        "  if (clicks >0):\n",
        "      ecPC = Spent/clicks\n",
        "  else:\n",
        "      ecPC =0\n",
        "\n",
        "  print ('For lambda = ', lamda, ' c = ', c, ' impressions =',impressions,' Clicks =',clicks,' Spent amount = ',Spent, ' eCPC is ',ecPC) \n",
        "  print ( ' CTR =',Ctr, ' CPM is ',cPM)\n",
        "  print (' ------->')\n",
        "\n",
        "\n",
        "\n",
        "# For lambda =  0.001  c =  471  impressions = 121045  Clicks = 144  Spent amount =  5122342  eCPC is  35571.819444444445\n",
        "#  CTR = 0.0011896402164484282  CPM is  42317.6669833533"
      ],
      "execution_count": 0,
      "outputs": []
    },
    {
      "metadata": {
        "id": "s_vCUTruMBsP",
        "colab_type": "code",
        "colab": {}
      },
      "cell_type": "code",
      "source": [
        "# non-linear bidding strategy\n",
        "# find lamda\n",
        "\n",
        "pCTR = loaded_logreg.predict_proba(x2)[:,1]\n",
        "# w = 7172/(2430981-1793)\n",
        "# pCTR = pCTR/(pCTR+(1-pCTR)/w)\n",
        "# pCTR *= 100\n",
        "lamda_list = [0.000899, 0.000898, 0.000897]\n",
        "avgCTR = len(train_df[train_df['click']==1])/len(train_df)\n",
        "lamda = 1e-3\n",
        "c = 471\n",
        "\n",
        "for lamda in lamda_list:\n",
        "# for c in range(461, 501):\n",
        "  current_bid = ((c/lamda)*pCTR + c**2)**0.5 - c\n",
        "  budget = 6250 * 1000\n",
        "  clicks = 0\n",
        "  impressions = 0\n",
        "\n",
        "  winning_rate = current_bid/(c+current_bid)\n",
        "\n",
        "  for j in range(len(current_bid)): # check the bid price can give how many clicks given the base bid\n",
        "    payprice = val_df.payprice[j]\n",
        "    if current_bid[j] > payprice:\n",
        "      budget = budget - payprice\n",
        "      if budget >=0:\n",
        "        impressions+=1\n",
        "        if (val_df.click[j]==1):\n",
        "                clicks +=1\n",
        "      else:\n",
        "        budget = budget+payprice\n",
        "        break     \n",
        "\n",
        "  Ctr = clicks/impressions\n",
        "  Spent = 6250000 - budget\n",
        "  cPM = 1000*Spent/impressions\n",
        "  if (clicks >0):\n",
        "      ecPC = Spent/clicks\n",
        "  else:\n",
        "      ecPC =0\n",
        "\n",
        "  print ('For lambda = ', lamda, ' c = ', c, ' impressions =',impressions,' Clicks =',clicks,' Spent amount = ',Spent, ' eCPC is ',ecPC) \n",
        "  print ( ' CTR =',Ctr, ' CPM is ',cPM)\n",
        "  print (' ------->')\n",
        "\n",
        "\n",
        "\n",
        "# For lambda =  0.00089  c =  471  impressions = 133080  Clicks = 154  Spent amount =  5937135  eCPC is  38552.82467532468\n",
        "#  CTR = 0.0011571986774872257  CPM is  44613.277727682595"
      ],
      "execution_count": 0,
      "outputs": []
    },
    {
      "metadata": {
        "id": "91Ypsql7Kkjz",
        "colab_type": "text"
      },
      "cell_type": "markdown",
      "source": [
        "Predict on Validation"
      ]
    },
    {
      "metadata": {
        "id": "32L35rmvKjdO",
        "colab_type": "code",
        "colab": {}
      },
      "cell_type": "code",
      "source": [
        "filename = '/content/gdrive/My Drive/we_data/Models/Logistic_Regression_Model.sav'\n",
        "loaded_logreg = joblib.load(filename)\n",
        "\n",
        "y_pred = loaded_logreg.predict(x2)\n",
        "pCTR = loaded_logreg.predict_proba(x2)[:,1]\n",
        "# w = 7172/(2430981-1793)\n",
        "# pCTR = pCTR/(pCTR+(1-pCTR)/w)\n",
        "# pCTR *= 100\n",
        "c = 471\n",
        "lamda = 0.00089\n",
        "final_bids = ((c/lamda)*pCTR + c**2)**0.5 - c\n",
        "\n",
        "group_df = val_df[['bidid']]\n",
        "group_df['bidprice'] = final_bids\n",
        "group_df['Probability'] = pCTR\n",
        "group_df['Click'] = y_pred\n",
        "group_df.to_csv('/content/gdrive/My Drive/we_data/SUBMISSION_BIDS/DIFFERENT_pBIDPRICES/VAL_LR_ORTB1_NO_RECAL.csv', sep=',')\n",
        "group_df.head()"
      ],
      "execution_count": 0,
      "outputs": []
    },
    {
      "metadata": {
        "id": "_7zmRLKhMFoe",
        "colab_type": "text"
      },
      "cell_type": "markdown",
      "source": [
        "Predict on Test"
      ]
    },
    {
      "metadata": {
        "id": "WUcrnLzGKrYt",
        "colab_type": "code",
        "colab": {}
      },
      "cell_type": "code",
      "source": [
        "# test_df = pd.read_csv('/content/gdrive/My Drive/we_data/FINAL_CSVs/FINAL_TEST_v1.csv')\n",
        "# test_df['click'] = 0\n",
        "# test_df = test_df.drop('Unnamed: 0',axis=1)\n",
        "\n",
        "# filename = '/content/gdrive/My Drive/we_data/Models/Logistic_Regression_Model.sav'\n",
        "# loaded_logreg = joblib.load(filename)\n",
        "\n",
        "# x3 = test_df[selected_features]\n",
        "# y3 = test_df['click']\n",
        "\n",
        "# y_pred = loaded_logreg.predict(x3)\n",
        "# pCTR = loaded_logreg.predict_proba(x3)[:,1]\n",
        "# # w = 7172/(2430981-1793)\n",
        "# # pCTR = pCTR/(pCTR+(1-pCTR)/w)\n",
        "# # pCTR *= 100\n",
        "# c = 471\n",
        "# lamda = 0.000235\n",
        "# final_bids = ((c/lamda)*pCTR + c**2)**0.5 - c\n",
        "\n",
        "# group_df = pd.read_csv('/content/gdrive/My Drive/we_data/Group_xx.csv')\n",
        "# group_df['bidprice'] = final_bids\n",
        "# group_df['Probability'] = pCTR\n",
        "# group_df['Click'] = y_pred\n",
        "# group_df.to_csv('/content/gdrive/My Drive/we_data/SUBMISSION_BIDS/DIFFERENT_pBIDPRICES/FINAL_LR_ORTB1_NO_RECAL.csv', sep=',')\n",
        "# group_df.head()"
      ],
      "execution_count": 0,
      "outputs": []
    },
    {
      "metadata": {
        "id": "6EyV6zQIonAm",
        "colab_type": "text"
      },
      "cell_type": "markdown",
      "source": [
        "# ORTB 2 (With recalibration)"
      ]
    },
    {
      "metadata": {
        "id": "R9ouHwArUQ9_",
        "colab_type": "code",
        "colab": {}
      },
      "cell_type": "code",
      "source": [
        "# non-linear bidding strategy\n",
        "# ORTB2 with recalibration\n",
        "# find c\n",
        "\n",
        "pCTR = loaded_logreg.predict_proba(x2)[:,1]\n",
        "# lamda_list = [0.1, 0.05, 0.01, 0.005, 0.001, 0.0005, 0.0001, 0.00005, 0.00001]\n",
        "w = 7172/(2430981-1793)\n",
        "pCTR = pCTR/(pCTR+(1-pCTR)/w)\n",
        "pCTR *= 100\n",
        "lamda = 0.001\n",
        "\n",
        "# for lamda in lamda_list:\n",
        "for c in range(1, 301): # try different base bids to find bid price for each row\n",
        "  current_bid = c*((((pCTR+(c**2 * lamda**2 + pCTR**2)**0.5)/(c*lamda))**(1/3))-(((c*lamda)/(lamda + (c**2 * lamda**2 + pCTR**2)**0.5))**(1/3)))\n",
        "  budget = 6250 * 1000\n",
        "  clicks = 0\n",
        "  impressions = 0\n",
        "\n",
        "  for j in range(len(current_bid)): # check the bid price can give how many clicks given the base bid\n",
        "    payprice = val_df.payprice[j]\n",
        "    if current_bid[j] > payprice:\n",
        "      budget = budget - payprice\n",
        "      if budget >=0:\n",
        "        impressions+=1\n",
        "        if (val_df.click[j]==1):\n",
        "                clicks +=1\n",
        "      else:\n",
        "        budget = budget+payprice\n",
        "        break     \n",
        "\n",
        "\n",
        "  Ctr = clicks/impressions\n",
        "  Spent = 6250000 - budget\n",
        "  cPM = 1000*Spent/impressions\n",
        "  if (clicks >0):\n",
        "      ecPC = Spent/clicks\n",
        "  else:\n",
        "      ecPC =0\n",
        "\n",
        "  print ('For lambda = ', lamda, ' c = ', c, ' impressions =',impressions,' Clicks =',clicks,' Spent amount = ',Spent, ' eCPC is ',ecPC) \n",
        "  print ( ' CTR =',Ctr, ' CPM is ',cPM)\n",
        "  print (' ------->')\n",
        "\n",
        "\n",
        "# For lambda =  0.001  c =  124  impressions = 41207  Clicks = 104  Spent amount =  1386415  eCPC is  13330.913461538461\n",
        "#  CTR = 0.0025238430363773144  CPM is  33645.13310845245\n",
        "\n",
        "# For lambda =  0.001  c =  285  impressions = 38889  Clicks = 105  Spent amount =  1393924  eCPC is  13275.466666666667\n",
        "#  CTR = 0.0026999922857363265  CPM is  35843.657589549744\n"
      ],
      "execution_count": 0,
      "outputs": []
    },
    {
      "metadata": {
        "id": "TbiKphd20Ei3",
        "colab_type": "code",
        "colab": {}
      },
      "cell_type": "code",
      "source": [
        "# non-linear bidding strategy\n",
        "# ORTB2 with recalibration\n",
        "# find lamda\n",
        "\n",
        "pCTR = loaded_logreg.predict_proba(x2)[:,1]\n",
        "\n",
        "# for c = 124\n",
        "# lamda_list = [0.0009, 0.0008, 0.0007, 0.0006, 0.0005, 0.0004, 0.0003, 0.0002, 0.0001]\n",
        "# lamda_list = [0.00035, 0.0003, 0.00025]\n",
        "# lamda_list = [0.00034, 0.00033, 0.00032, 0.00031, 0.0003, 0.00029, 0.00028, 0.00027, 0.00026, 0.00025]\n",
        "# lamda_list = [0.00029, 0.000285, 0.00028, 0.000275]\n",
        "# lamda_list = [0.000285, 0.000284, 0.000283, 0.000282, 0.000281, 0.00028, 0.000279, 0.000278]\n",
        "# lamda_list = [0.0002835, 0.000283]\n",
        "\n",
        "# for c = 285\n",
        "# lamda_list = [0.1, 0.05, 0.01, 0.005, 0.001, 0.0005, 0.0001, 0.00005, 0.00001]\n",
        "# lamda_list = [0.00075, 0.0005, 0.00025]\n",
        "# lamda_list = [0.00045, 0.0004, 0.00035, 0.0003, 0.00025, 0.00024, 0.00023]\n",
        "# lamda_list = [0.00034, 0.00033, 0.00032, 0.00031, 0.0003, 0.00029, 0.00028, 0.00027]\n",
        "lamda_list = [0.00029, 0.000289, 0.000288, 0.000287, 0.000286, 0.0002850, 0.000284]\n",
        "\n",
        "\n",
        "w = 7172/(2430981-1793)\n",
        "pCTR = pCTR/(pCTR+(1-pCTR)/w)\n",
        "pCTR *= 100\n",
        "lamda = 0.001\n",
        "# c = 124\n",
        "c = 285\n",
        "\n",
        "for lamda in lamda_list:\n",
        "# for c in range(1, 301): # try different base bids to find bid price for each row\n",
        "  current_bid = c*((((pCTR+(c**2 * lamda**2 + pCTR**2)**0.5)/(c*lamda))**(1/3))-(((c*lamda)/(lamda + (c**2 * lamda**2 + pCTR**2)**0.5))**(1/3)))\n",
        "  budget = 6250 * 1000\n",
        "  clicks = 0\n",
        "  impressions = 0\n",
        "\n",
        "  for j in range(len(current_bid)): # check the bid price can give how many clicks given the base bid\n",
        "    payprice = val_df.payprice[j]\n",
        "    if current_bid[j] > payprice:\n",
        "      budget = budget - payprice\n",
        "      if budget >=0:\n",
        "        impressions+=1\n",
        "        if (val_df.click[j]==1):\n",
        "                clicks +=1\n",
        "      else:\n",
        "        budget = budget+payprice\n",
        "        break     \n",
        "\n",
        "\n",
        "  Ctr = clicks/impressions\n",
        "  Spent = 6250000 - budget\n",
        "  cPM = 1000*Spent/impressions\n",
        "  if (clicks >0):\n",
        "      ecPC = Spent/clicks\n",
        "  else:\n",
        "      ecPC =0\n",
        "\n",
        "  print ('For lambda = ', lamda, ' c = ', c, ' impressions =',impressions,' Clicks =',clicks,' Spent amount = ',Spent, ' eCPC is ',ecPC) \n",
        "  print ( ' CTR =',Ctr, ' CPM is ',cPM)\n",
        "  print (' ------->')\n",
        "\n",
        "\n",
        "# For lambda =  0.000283  c =  124  impressions = 132325  Clicks = 158  Spent amount =  6204304  eCPC is  39267.74683544304\n",
        "#  CTR = 0.0011940298507462687  CPM is  46886.861893066314\n",
        "\n",
        "\n",
        "# For lambda =  0.00029  c =  285  impressions = 126699  Clicks = 159  Spent amount =  6167789  eCPC is  38791.125786163524\n",
        "#  CTR = 0.0012549428172282339  CPM is  48680.64467754284"
      ],
      "execution_count": 0,
      "outputs": []
    },
    {
      "metadata": {
        "id": "83BtUWOMgUE8",
        "colab_type": "text"
      },
      "cell_type": "markdown",
      "source": [
        "Predict on Validation (c = 285)"
      ]
    },
    {
      "metadata": {
        "id": "wt1d5-tMgTQb",
        "colab_type": "code",
        "colab": {}
      },
      "cell_type": "code",
      "source": [
        "filename = '/content/gdrive/My Drive/we_data/Models/Logistic_Regression_Model.sav'\n",
        "loaded_logreg = joblib.load(filename)\n",
        "\n",
        "y_pred = loaded_logreg.predict(x2)\n",
        "pCTR = loaded_logreg.predict_proba(x2)[:,1]\n",
        "w = 7172/(2430981-1793)\n",
        "pCTR = pCTR/(pCTR+(1-pCTR)/w)\n",
        "pCTR *= 100\n",
        "c = 285\n",
        "lamda = 0.00029\n",
        "final_bids = c*((((pCTR+(c**2 * lamda**2 + pCTR**2)**0.5)/(c*lamda))**(1/3))-(((c*lamda)/(lamda + (c**2 * lamda**2 + pCTR**2)**0.5))**(1/3)))\n",
        "\n",
        "group_df = val_df[['bidid']]\n",
        "group_df['bidprice'] = final_bids\n",
        "group_df['Probability'] = pCTR\n",
        "group_df['Click'] = y_pred\n",
        "group_df.to_csv('/content/gdrive/My Drive/we_data/SUBMISSION_BIDS/DIFFERENT_pBIDPRICES/VAL_LR_ORTB2_c285_RECAL.csv', sep=',')\n",
        "group_df.head()"
      ],
      "execution_count": 0,
      "outputs": []
    },
    {
      "metadata": {
        "id": "0yiN5gNqgRlZ",
        "colab_type": "text"
      },
      "cell_type": "markdown",
      "source": [
        "Predict on Test (c = 124)"
      ]
    },
    {
      "metadata": {
        "id": "Qw3vGC24mySs",
        "colab_type": "code",
        "colab": {}
      },
      "cell_type": "code",
      "source": [
        "# test_df = pd.read_csv('/content/gdrive/My Drive/we_data/FINAL_CSVs/FINAL_TEST_v1.csv')\n",
        "# test_df['click'] = 0\n",
        "# test_df = test_df.drop('Unnamed: 0',axis=1)\n",
        "\n",
        "# filename = '/content/gdrive/My Drive/we_data/Models/Logistic_Regression_Model.sav'\n",
        "# loaded_logreg = joblib.load(filename)\n",
        "\n",
        "# x3 = test_df[selected_features]\n",
        "# y3 = test_df['click']\n",
        "\n",
        "# y_pred = loaded_logreg.predict(x3)\n",
        "# pCTR = loaded_logreg.predict_proba(x3)[:,1]\n",
        "# w = 7172/(2430981-1793)\n",
        "# pCTR = pCTR/(pCTR+(1-pCTR)/w)\n",
        "# pCTR *= 100\n",
        "# c = 285\n",
        "# lamda = 0.00029\n",
        "# final_bids = c*((((pCTR+(c**2 * lamda**2 + pCTR**2)**0.5)/(c*lamda))**(1/3))-(((c*lamda)/(lamda + (c**2 * lamda**2 + pCTR**2)**0.5))**(1/3)))\n",
        "\n",
        "# group_df = pd.read_csv('/content/gdrive/My Drive/we_data/Group_xx.csv')\n",
        "# group_df['bidprice'] = final_bids\n",
        "# group_df['Probability'] = pCTR\n",
        "# group_df['Click'] = y_pred\n",
        "# group_df.to_csv('/content/gdrive/My Drive/we_data/SUBMISSION_BIDS/DIFFERENT_pBIDPRICES/FINAL_LR_ORTB2_c285.csv', sep=',')\n",
        "# group_df.head()"
      ],
      "execution_count": 0,
      "outputs": []
    },
    {
      "metadata": {
        "id": "3BqzQa3uuyZF",
        "colab_type": "text"
      },
      "cell_type": "markdown",
      "source": [
        "Predict on Validation (c = 124)"
      ]
    },
    {
      "metadata": {
        "id": "bPoLmrvLMHEi",
        "colab_type": "code",
        "colab": {}
      },
      "cell_type": "code",
      "source": [
        "filename = '/content/gdrive/My Drive/we_data/Models/Logistic_Regression_Model.sav'\n",
        "loaded_logreg = joblib.load(filename)\n",
        "\n",
        "y_pred = loaded_logreg.predict(x2)\n",
        "pCTR = loaded_logreg.predict_proba(x2)[:,1]\n",
        "w = 7172/(2430981-1793)\n",
        "pCTR = pCTR/(pCTR+(1-pCTR)/w)\n",
        "pCTR *= 100\n",
        "c = 124\n",
        "lamda = 0.000283\n",
        "final_bids = c*((((pCTR+(c**2 * lamda**2 + pCTR**2)**0.5)/(c*lamda))**(1/3))-(((c*lamda)/(lamda + (c**2 * lamda**2 + pCTR**2)**0.5))**(1/3)))\n",
        "\n",
        "group_df = val_df[['bidid']]\n",
        "group_df['bidprice'] = final_bids\n",
        "group_df['Probability'] = pCTR\n",
        "group_df['Click'] = y_pred\n",
        "group_df.to_csv('/content/gdrive/My Drive/we_data/SUBMISSION_BIDS/VAL_LR_ORTB2_c124_RECAL.csv')\n",
        "group_df.head()"
      ],
      "execution_count": 0,
      "outputs": []
    },
    {
      "metadata": {
        "id": "Sa1NtOVoK7xG",
        "colab_type": "text"
      },
      "cell_type": "markdown",
      "source": [
        "# ORTB 2 (No recalibration)"
      ]
    },
    {
      "metadata": {
        "id": "dl9oOnudK67e",
        "colab_type": "code",
        "colab": {}
      },
      "cell_type": "code",
      "source": [
        "# non-linear bidding strategy\n",
        "# ORTB2 with recalibration\n",
        "# find c\n",
        "\n",
        "pCTR = loaded_logreg.predict_proba(x2)[:,1]\n",
        "# lamda_list = [0.1, 0.05, 0.01, 0.005, 0.001, 0.0005, 0.0001, 0.00005, 0.00001]\n",
        "# w = 7172/(2430981-1793)\n",
        "# pCTR = pCTR/(pCTR+(1-pCTR)/w)\n",
        "# pCTR *= 100\n",
        "# lamda = 0.001\n",
        "\n",
        "# for lamda in lamda_list:\n",
        "for c in range(1, 301): # try different base bids to find bid price for each row\n",
        "  current_bid = c*((((pCTR+(c**2 * lamda**2 + pCTR**2)**0.5)/(c*lamda))**(1/3))-(((c*lamda)/(lamda + (c**2 * lamda**2 + pCTR**2)**0.5))**(1/3)))\n",
        "  budget = 6250 * 1000\n",
        "  clicks = 0\n",
        "  impressions = 0\n",
        "\n",
        "  for j in range(len(current_bid)): # check the bid price can give how many clicks given the base bid\n",
        "    payprice = val_df.payprice[j]\n",
        "    if current_bid[j] > payprice:\n",
        "      budget = budget - payprice\n",
        "      if budget >=0:\n",
        "        impressions+=1\n",
        "        if (val_df.click[j]==1):\n",
        "                clicks +=1\n",
        "      else:\n",
        "        budget = budget+payprice\n",
        "        break     \n",
        "\n",
        "  Ctr = clicks/impressions\n",
        "  Spent = 6250000 - budget\n",
        "  cPM = 1000*Spent/impressions\n",
        "  if (clicks >0):\n",
        "      ecPC = Spent/clicks\n",
        "  else:\n",
        "      ecPC =0\n",
        "\n",
        "  print ('For lambda = ', lamda, ' c = ', c, ' impressions =',impressions,' Clicks =',clicks,' Spent amount = ',Spent, ' eCPC is ',ecPC) \n",
        "  print ( ' CTR =',Ctr, ' CPM is ',cPM)\n",
        "  print (' ------->')\n",
        "\n",
        "\n",
        "# For lambda =  0.001  c =  295  impressions = 108862  Clicks = 144  Spent amount =  4650745  eCPC is  32296.840277777777\n",
        "#  CTR = 0.0013227756241847477  CPM is  42721.4730576326"
      ],
      "execution_count": 0,
      "outputs": []
    },
    {
      "metadata": {
        "id": "dIJPwfi5cCvl",
        "colab_type": "code",
        "colab": {}
      },
      "cell_type": "code",
      "source": [
        "# non-linear bidding strategy\n",
        "# ORTB2 with recalibration\n",
        "# find lamda\n",
        "\n",
        "pCTR = loaded_logreg.predict_proba(x2)[:,1]\n",
        "lamda_list = [0.000839, 0.000838, 0.000837, 0.000836, 0.000835, 0.000834, 0.000833, 0.000832, 0.000831, 0.00083]\n",
        "# w = 7172/(2430981-1793)\n",
        "# pCTR = pCTR/(pCTR+(1-pCTR)/w)\n",
        "# pCTR *= 100\n",
        "# lamda = 0.001\n",
        "c = 295\n",
        "\n",
        "for lamda in lamda_list:\n",
        "# for c in range(281, 311): # try different base bids to find bid price for each row\n",
        "  current_bid = c*((((pCTR+(c**2 * lamda**2 + pCTR**2)**0.5)/(c*lamda))**(1/3))-(((c*lamda)/(lamda + (c**2 * lamda**2 + pCTR**2)**0.5))**(1/3)))\n",
        "  budget = 6250 * 1000\n",
        "  clicks = 0\n",
        "  impressions = 0\n",
        "\n",
        "  for j in range(len(current_bid)): # check the bid price can give how many clicks given the base bid\n",
        "    payprice = val_df.payprice[j]\n",
        "    if current_bid[j] > payprice:\n",
        "      budget = budget - payprice\n",
        "      if budget >=0:\n",
        "        impressions+=1\n",
        "        if (val_df.click[j]==1):\n",
        "                clicks +=1\n",
        "      else:\n",
        "        budget = budget+payprice\n",
        "        break     \n",
        "\n",
        "  Ctr = clicks/impressions\n",
        "  Spent = 6250000 - budget\n",
        "  cPM = 1000*Spent/impressions\n",
        "  if (clicks >0):\n",
        "      ecPC = Spent/clicks\n",
        "  else:\n",
        "      ecPC =0\n",
        "\n",
        "  print ('For lambda = ', lamda, ' c = ', c, ' impressions =',impressions,' Clicks =',clicks,' Spent amount = ',Spent, ' eCPC is ',ecPC) \n",
        "  print ( ' CTR =',Ctr, ' CPM is ',cPM)\n",
        "  print (' ------->')\n",
        "\n",
        "\n",
        "# For lambda =  0.00083  c =  295  impressions = 129026  Clicks = 155  Spent amount =  5986743  eCPC is  38624.14838709677\n",
        "#  CTR = 0.0012013082634507774  CPM is  46399.50862616837"
      ],
      "execution_count": 0,
      "outputs": []
    },
    {
      "metadata": {
        "id": "gyXroo98MX5W",
        "colab_type": "text"
      },
      "cell_type": "markdown",
      "source": [
        "Predict on Validation"
      ]
    },
    {
      "metadata": {
        "id": "u3V2nhRhMXly",
        "colab_type": "code",
        "colab": {}
      },
      "cell_type": "code",
      "source": [
        "filename = '/content/gdrive/My Drive/we_data/Models/Logistic_Regression_Model.sav'\n",
        "loaded_logreg = joblib.load(filename)\n",
        "\n",
        "x2 = val_df[selected_features]\n",
        "y2 = val_df['click']\n",
        "\n",
        "y_pred = loaded_logreg.predict(x2)\n",
        "pCTR = loaded_logreg.predict_proba(x2)[:,1]\n",
        "# w = 7172/(2430981-1793)\n",
        "# pCTR = pCTR/(pCTR+(1-pCTR)/w)\n",
        "# pCTR *= 100\n",
        "c = 295\n",
        "lamda = 0.00083\n",
        "final_bids = c*((((pCTR+(c**2 * lamda**2 + pCTR**2)**0.5)/(c*lamda))**(1/3))-(((c*lamda)/(lamda + (c**2 * lamda**2 + pCTR**2)**0.5))**(1/3)))\n",
        "\n",
        "group_df = val_df[['bidid']]\n",
        "group_df['bidprice'] = final_bids\n",
        "group_df['Probability'] = pCTR\n",
        "group_df['Click'] = y_pred\n",
        "group_df.to_csv('/content/gdrive/My Drive/we_data/SUBMISSION_BIDS/DIFFERENT_pBIDPRICES/VAL_LR_ORTB2_NO_RECAL.csv', sep=',')\n",
        "group_df.head()"
      ],
      "execution_count": 0,
      "outputs": []
    },
    {
      "metadata": {
        "id": "UOHJQ6HjMRSq",
        "colab_type": "text"
      },
      "cell_type": "markdown",
      "source": [
        "Predict on Test"
      ]
    },
    {
      "metadata": {
        "id": "1dkNiSEPMQgM",
        "colab_type": "code",
        "colab": {}
      },
      "cell_type": "code",
      "source": [
        "# test_df = pd.read_csv('/content/gdrive/My Drive/we_data/FINAL_CSVs/FINAL_TEST_v1.csv')\n",
        "# test_df['click'] = 0\n",
        "# test_df = test_df.drop('Unnamed: 0',axis=1)\n",
        "\n",
        "# filename = '/content/gdrive/My Drive/we_data/Models/Logistic_Regression_Model.sav'\n",
        "# loaded_logreg = joblib.load(filename)\n",
        "\n",
        "# x3 = test_df[selected_features]\n",
        "# y3 = test_df['click']\n",
        "\n",
        "# y_pred = loaded_logreg.predict(x3)\n",
        "# pCTR = loaded_logreg.predict_proba(x3)[:,1]\n",
        "# # w = 7172/(2430981-1793)\n",
        "# # pCTR = pCTR/(pCTR+(1-pCTR)/w)\n",
        "# # pCTR *= 100\n",
        "# c = 285\n",
        "# lamda = 0.00029\n",
        "# final_bids = c*((((pCTR+(c**2 * lamda**2 + pCTR**2)**0.5)/(c*lamda))**(1/3))-(((c*lamda)/(lamda + (c**2 * lamda**2 + pCTR**2)**0.5))**(1/3)))\n",
        "\n",
        "# group_df = pd.read_csv('/content/gdrive/My Drive/we_data/Group_xx.csv')\n",
        "# group_df['bidprice'] = final_bids\n",
        "# group_df['Probability'] = pCTR\n",
        "# group_df['Click'] = y_pred\n",
        "# group_df.to_csv('/content/gdrive/My Drive/we_data/SUBMISSION_BIDS/DIFFERENT_pBIDPRICES/FINAL_LR_ORTB2_c285.csv', sep=',')\n",
        "# group_df.head()"
      ],
      "execution_count": 0,
      "outputs": []
    }
  ]
}